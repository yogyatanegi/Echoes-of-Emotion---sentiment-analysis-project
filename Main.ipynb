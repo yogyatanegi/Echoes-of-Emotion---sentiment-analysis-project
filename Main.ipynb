{
 "cells": [
  {
   "cell_type": "markdown",
   "id": "c6fa061a",
   "metadata": {
    "papermill": {
     "duration": 0.019395,
     "end_time": "2024-08-18T18:25:46.660128",
     "exception": false,
     "start_time": "2024-08-18T18:25:46.640733",
     "status": "completed"
    },
    "tags": []
   },
   "source": [
    "# IMPORT Basic MOdUlE"
   ]
  },
  {
   "cell_type": "markdown",
   "id": "f97e278d",
   "metadata": {
    "_cell_guid": "b1076dfc-b9ad-4769-8c92-a6c4dae69d19",
    "_uuid": "8f2839f25d086af736a60e9eeb907d3b93b6e0e5",
    "execution": {
     "iopub.execute_input": "2024-07-29T07:29:07.472705Z",
     "iopub.status.busy": "2024-07-29T07:29:07.472288Z",
     "iopub.status.idle": "2024-07-29T07:29:08.621480Z",
     "shell.execute_reply": "2024-07-29T07:29:08.620232Z",
     "shell.execute_reply.started": "2024-07-29T07:29:07.472671Z"
    },
    "papermill": {
     "duration": 0.019695,
     "end_time": "2024-08-18T18:25:46.698949",
     "exception": false,
     "start_time": "2024-08-18T18:25:46.679254",
     "status": "completed"
    },
    "tags": []
   },
   "source": [
    "# The Notebook's Information\n",
    "\n",
    "Sentiment Analysis involves using computational methods to determine whether a piece of writing expresses a positive, negative, or neutral sentiment. It is also referred to as opinion mining, which involves identifying the opinion or attitude of a speaker.\n",
    "\n",
    "This notebook will demonstrate various techniques for conducting sentiment analysis on Amazon food reviews using Python.\n",
    "\n",
    "Please feel free to explore the notebook according to your requirements. If you find it helpful, consider giving it an upvote so that it can reach a wider audience, and to motivate me to create more interesting notebooks.\n",
    "\n",
    "Content:\n",
    "1. Introduction to Sentiment Analysis\n",
    "2. Dataset Overview and Exploration\n",
    "3. Reducing Dataset Size through Undersampling\n",
    "4. Text Preprocessing Fundamentals with NLTK\n",
    "5. Sentiment Analysis using NLTK's Opinion Lexicon\n",
    "6. VADER: A Tool for Sentiment Scoring"
   ]
  },
  {
   "cell_type": "markdown",
   "id": "047cfac3",
   "metadata": {
    "papermill": {
     "duration": 0.02019,
     "end_time": "2024-08-18T18:25:46.740816",
     "exception": false,
     "start_time": "2024-08-18T18:25:46.720626",
     "status": "completed"
    },
    "tags": []
   },
   "source": []
  },
  {
   "cell_type": "code",
   "execution_count": 1,
   "id": "8d8325c9",
   "metadata": {
    "execution": {
     "iopub.execute_input": "2024-08-18T18:25:46.783769Z",
     "iopub.status.busy": "2024-08-18T18:25:46.783160Z",
     "iopub.status.idle": "2024-08-18T18:26:11.051029Z",
     "shell.execute_reply": "2024-08-18T18:26:11.049414Z"
    },
    "papermill": {
     "duration": 24.293892,
     "end_time": "2024-08-18T18:26:11.053778",
     "exception": false,
     "start_time": "2024-08-18T18:25:46.759886",
     "status": "completed"
    },
    "tags": []
   },
   "outputs": [
    {
     "name": "stdout",
     "output_type": "stream",
     "text": [
      "[nltk_data] Error loading opinion_lexicon: <urlopen error [Errno -3]\n",
      "[nltk_data]     Temporary failure in name resolution>\n"
     ]
    }
   ],
   "source": [
    "import pandas as pd\n",
    "import numpy as np\n",
    "import matplotlib.pyplot as plt\n",
    "import seaborn as sns\n",
    "import nltk\n",
    "nltk.download('opinion_lexicon')\n",
    "plt.style.use('ggplot')"
   ]
  },
  {
   "cell_type": "code",
   "execution_count": 2,
   "id": "870cb1e6",
   "metadata": {
    "execution": {
     "iopub.execute_input": "2024-08-18T18:26:11.094882Z",
     "iopub.status.busy": "2024-08-18T18:26:11.094326Z",
     "iopub.status.idle": "2024-08-18T18:26:19.578384Z",
     "shell.execute_reply": "2024-08-18T18:26:19.576893Z"
    },
    "papermill": {
     "duration": 8.507366,
     "end_time": "2024-08-18T18:26:19.581135",
     "exception": false,
     "start_time": "2024-08-18T18:26:11.073769",
     "status": "completed"
    },
    "tags": []
   },
   "outputs": [
    {
     "data": {
      "text/html": [
       "<div>\n",
       "<style scoped>\n",
       "    .dataframe tbody tr th:only-of-type {\n",
       "        vertical-align: middle;\n",
       "    }\n",
       "\n",
       "    .dataframe tbody tr th {\n",
       "        vertical-align: top;\n",
       "    }\n",
       "\n",
       "    .dataframe thead th {\n",
       "        text-align: right;\n",
       "    }\n",
       "</style>\n",
       "<table border=\"1\" class=\"dataframe\">\n",
       "  <thead>\n",
       "    <tr style=\"text-align: right;\">\n",
       "      <th></th>\n",
       "      <th>Id</th>\n",
       "      <th>ProductId</th>\n",
       "      <th>UserId</th>\n",
       "      <th>ProfileName</th>\n",
       "      <th>HelpfulnessNumerator</th>\n",
       "      <th>HelpfulnessDenominator</th>\n",
       "      <th>Score</th>\n",
       "      <th>Time</th>\n",
       "      <th>Summary</th>\n",
       "      <th>Text</th>\n",
       "    </tr>\n",
       "  </thead>\n",
       "  <tbody>\n",
       "    <tr>\n",
       "      <th>0</th>\n",
       "      <td>1</td>\n",
       "      <td>B001E4KFG0</td>\n",
       "      <td>A3SGXH7AUHU8GW</td>\n",
       "      <td>delmartian</td>\n",
       "      <td>1</td>\n",
       "      <td>1</td>\n",
       "      <td>5</td>\n",
       "      <td>1303862400</td>\n",
       "      <td>Good Quality Dog Food</td>\n",
       "      <td>I have bought several of the Vitality canned d...</td>\n",
       "    </tr>\n",
       "    <tr>\n",
       "      <th>1</th>\n",
       "      <td>2</td>\n",
       "      <td>B00813GRG4</td>\n",
       "      <td>A1D87F6ZCVE5NK</td>\n",
       "      <td>dll pa</td>\n",
       "      <td>0</td>\n",
       "      <td>0</td>\n",
       "      <td>1</td>\n",
       "      <td>1346976000</td>\n",
       "      <td>Not as Advertised</td>\n",
       "      <td>Product arrived labeled as Jumbo Salted Peanut...</td>\n",
       "    </tr>\n",
       "    <tr>\n",
       "      <th>2</th>\n",
       "      <td>3</td>\n",
       "      <td>B000LQOCH0</td>\n",
       "      <td>ABXLMWJIXXAIN</td>\n",
       "      <td>Natalia Corres \"Natalia Corres\"</td>\n",
       "      <td>1</td>\n",
       "      <td>1</td>\n",
       "      <td>4</td>\n",
       "      <td>1219017600</td>\n",
       "      <td>\"Delight\" says it all</td>\n",
       "      <td>This is a confection that has been around a fe...</td>\n",
       "    </tr>\n",
       "    <tr>\n",
       "      <th>3</th>\n",
       "      <td>4</td>\n",
       "      <td>B000UA0QIQ</td>\n",
       "      <td>A395BORC6FGVXV</td>\n",
       "      <td>Karl</td>\n",
       "      <td>3</td>\n",
       "      <td>3</td>\n",
       "      <td>2</td>\n",
       "      <td>1307923200</td>\n",
       "      <td>Cough Medicine</td>\n",
       "      <td>If you are looking for the secret ingredient i...</td>\n",
       "    </tr>\n",
       "    <tr>\n",
       "      <th>4</th>\n",
       "      <td>5</td>\n",
       "      <td>B006K2ZZ7K</td>\n",
       "      <td>A1UQRSCLF8GW1T</td>\n",
       "      <td>Michael D. Bigham \"M. Wassir\"</td>\n",
       "      <td>0</td>\n",
       "      <td>0</td>\n",
       "      <td>5</td>\n",
       "      <td>1350777600</td>\n",
       "      <td>Great taffy</td>\n",
       "      <td>Great taffy at a great price.  There was a wid...</td>\n",
       "    </tr>\n",
       "  </tbody>\n",
       "</table>\n",
       "</div>"
      ],
      "text/plain": [
       "   Id   ProductId          UserId                      ProfileName  \\\n",
       "0   1  B001E4KFG0  A3SGXH7AUHU8GW                       delmartian   \n",
       "1   2  B00813GRG4  A1D87F6ZCVE5NK                           dll pa   \n",
       "2   3  B000LQOCH0   ABXLMWJIXXAIN  Natalia Corres \"Natalia Corres\"   \n",
       "3   4  B000UA0QIQ  A395BORC6FGVXV                             Karl   \n",
       "4   5  B006K2ZZ7K  A1UQRSCLF8GW1T    Michael D. Bigham \"M. Wassir\"   \n",
       "\n",
       "   HelpfulnessNumerator  HelpfulnessDenominator  Score        Time  \\\n",
       "0                     1                       1      5  1303862400   \n",
       "1                     0                       0      1  1346976000   \n",
       "2                     1                       1      4  1219017600   \n",
       "3                     3                       3      2  1307923200   \n",
       "4                     0                       0      5  1350777600   \n",
       "\n",
       "                 Summary                                               Text  \n",
       "0  Good Quality Dog Food  I have bought several of the Vitality canned d...  \n",
       "1      Not as Advertised  Product arrived labeled as Jumbo Salted Peanut...  \n",
       "2  \"Delight\" says it all  This is a confection that has been around a fe...  \n",
       "3         Cough Medicine  If you are looking for the secret ingredient i...  \n",
       "4            Great taffy  Great taffy at a great price.  There was a wid...  "
      ]
     },
     "execution_count": 2,
     "metadata": {},
     "output_type": "execute_result"
    }
   ],
   "source": [
    "data=pd.read_csv('/kaggle/input/amazon-fine-food-reviews/Reviews.csv')\n",
    "data.head()"
   ]
  },
  {
   "cell_type": "markdown",
   "id": "b45a6077",
   "metadata": {
    "papermill": {
     "duration": 0.020012,
     "end_time": "2024-08-18T18:26:19.620862",
     "exception": false,
     "start_time": "2024-08-18T18:26:19.600850",
     "status": "completed"
    },
    "tags": []
   },
   "source": [
    "# Descriptive variable names:\n",
    "\n",
    "1. Id: Unique review identifier\n",
    "2. ProductId: Product identifier being reviewed\n",
    "3. UserId: Identifier of the user who wrote the review\n",
    "4. ProfileName: Name of the user's profile\n",
    "5. HelpfulnessNumerator: Number of users who found the review helpful\n",
    "6. HelpfulnessDenominator: Total number of users who voted on the review's helpfulness\n",
    "7. Score: User's rating on a 1-5 scale\n",
    "8. Time: Review timestamp in Unix time format\n",
    "9. Summary: Brief review summary or title\n",
    "10. Text: Full review text content"
   ]
  },
  {
   "cell_type": "code",
   "execution_count": 3,
   "id": "8625a1c0",
   "metadata": {
    "execution": {
     "iopub.execute_input": "2024-08-18T18:26:19.662748Z",
     "iopub.status.busy": "2024-08-18T18:26:19.661728Z",
     "iopub.status.idle": "2024-08-18T18:26:19.669119Z",
     "shell.execute_reply": "2024-08-18T18:26:19.667936Z"
    },
    "papermill": {
     "duration": 0.03089,
     "end_time": "2024-08-18T18:26:19.671694",
     "exception": false,
     "start_time": "2024-08-18T18:26:19.640804",
     "status": "completed"
    },
    "tags": []
   },
   "outputs": [
    {
     "data": {
      "text/plain": [
       "(568454, 10)"
      ]
     },
     "execution_count": 3,
     "metadata": {},
     "output_type": "execute_result"
    }
   ],
   "source": [
    "data.shape"
   ]
  },
  {
   "cell_type": "code",
   "execution_count": 4,
   "id": "1cd6344f",
   "metadata": {
    "execution": {
     "iopub.execute_input": "2024-08-18T18:26:19.716436Z",
     "iopub.status.busy": "2024-08-18T18:26:19.716041Z",
     "iopub.status.idle": "2024-08-18T18:26:20.101656Z",
     "shell.execute_reply": "2024-08-18T18:26:20.100225Z"
    },
    "papermill": {
     "duration": 0.413105,
     "end_time": "2024-08-18T18:26:20.104507",
     "exception": false,
     "start_time": "2024-08-18T18:26:19.691402",
     "status": "completed"
    },
    "tags": []
   },
   "outputs": [
    {
     "name": "stdout",
     "output_type": "stream",
     "text": [
      "<class 'pandas.core.frame.DataFrame'>\n",
      "RangeIndex: 568454 entries, 0 to 568453\n",
      "Data columns (total 10 columns):\n",
      " #   Column                  Non-Null Count   Dtype \n",
      "---  ------                  --------------   ----- \n",
      " 0   Id                      568454 non-null  int64 \n",
      " 1   ProductId               568454 non-null  object\n",
      " 2   UserId                  568454 non-null  object\n",
      " 3   ProfileName             568428 non-null  object\n",
      " 4   HelpfulnessNumerator    568454 non-null  int64 \n",
      " 5   HelpfulnessDenominator  568454 non-null  int64 \n",
      " 6   Score                   568454 non-null  int64 \n",
      " 7   Time                    568454 non-null  int64 \n",
      " 8   Summary                 568427 non-null  object\n",
      " 9   Text                    568454 non-null  object\n",
      "dtypes: int64(5), object(5)\n",
      "memory usage: 43.4+ MB\n"
     ]
    }
   ],
   "source": [
    "data.info()"
   ]
  },
  {
   "cell_type": "code",
   "execution_count": 5,
   "id": "32bb7142",
   "metadata": {
    "execution": {
     "iopub.execute_input": "2024-08-18T18:26:20.146976Z",
     "iopub.status.busy": "2024-08-18T18:26:20.146514Z",
     "iopub.status.idle": "2024-08-18T18:26:20.162766Z",
     "shell.execute_reply": "2024-08-18T18:26:20.161665Z"
    },
    "papermill": {
     "duration": 0.040624,
     "end_time": "2024-08-18T18:26:20.165461",
     "exception": false,
     "start_time": "2024-08-18T18:26:20.124837",
     "status": "completed"
    },
    "tags": []
   },
   "outputs": [
    {
     "data": {
      "text/plain": [
       "Score\n",
       "5    363122\n",
       "4     80655\n",
       "1     52268\n",
       "3     42640\n",
       "2     29769\n",
       "Name: count, dtype: int64"
      ]
     },
     "execution_count": 5,
     "metadata": {},
     "output_type": "execute_result"
    }
   ],
   "source": [
    "review_count=data.Score.value_counts()\n",
    "review_count"
   ]
  },
  {
   "cell_type": "markdown",
   "id": "3431531b",
   "metadata": {
    "papermill": {
     "duration": 0.019834,
     "end_time": "2024-08-18T18:26:20.205083",
     "exception": false,
     "start_time": "2024-08-18T18:26:20.185249",
     "status": "completed"
    },
    "tags": []
   },
   "source": []
  },
  {
   "cell_type": "code",
   "execution_count": 6,
   "id": "ce7a4403",
   "metadata": {
    "execution": {
     "iopub.execute_input": "2024-08-18T18:26:20.247394Z",
     "iopub.status.busy": "2024-08-18T18:26:20.246963Z",
     "iopub.status.idle": "2024-08-18T18:26:20.604132Z",
     "shell.execute_reply": "2024-08-18T18:26:20.602655Z"
    },
    "papermill": {
     "duration": 0.381293,
     "end_time": "2024-08-18T18:26:20.606975",
     "exception": false,
     "start_time": "2024-08-18T18:26:20.225682",
     "status": "completed"
    },
    "tags": []
   },
   "outputs": [
    {
     "data": {
      "image/png": "[encoded data removed]",
      "text/plain": [
       "<Figure size 1000x500 with 1 Axes>"
      ]
     },
     "metadata": {},
     "output_type": "display_data"
    }
   ],
   "source": [
    "# knowing the distribution of 5 categories\n",
    "ap=review_count.sort_index().plot(kind='bar',title='Count of the review by stars',figsize=(10,5))\n",
    "ap.set_xlabel('Review stars')\n",
    "plt.show()"
   ]
  },
  {
   "cell_type": "code",
   "execution_count": 7,
   "id": "48370b8c",
   "metadata": {
    "execution": {
     "iopub.execute_input": "2024-08-18T18:26:20.650776Z",
     "iopub.status.busy": "2024-08-18T18:26:20.650309Z",
     "iopub.status.idle": "2024-08-18T18:26:20.727508Z",
     "shell.execute_reply": "2024-08-18T18:26:20.726124Z"
    },
    "papermill": {
     "duration": 0.102303,
     "end_time": "2024-08-18T18:26:20.730536",
     "exception": false,
     "start_time": "2024-08-18T18:26:20.628233",
     "status": "completed"
    },
    "tags": []
   },
   "outputs": [
    {
     "data": {
      "text/plain": [
       "568454"
      ]
     },
     "execution_count": 7,
     "metadata": {},
     "output_type": "execute_result"
    }
   ],
   "source": [
    "len(data['Id'].value_counts(dropna=False))"
   ]
  },
  {
   "cell_type": "markdown",
   "id": "3c46672e",
   "metadata": {
    "papermill": {
     "duration": 0.021066,
     "end_time": "2024-08-18T18:26:20.772261",
     "exception": false,
     "start_time": "2024-08-18T18:26:20.751195",
     "status": "completed"
    },
    "tags": []
   },
   "source": [
    "# Balanced Corpus Creation:\n",
    "To create a smaller, balanced dataset, we will undersample the reviews by randomly selecting:\n",
    "\n",
    "- 1500 reviews with a rating of 1 (extremely negative)\n",
    "- 500 reviews with a rating of 2 (negative)\n",
    "- 500 reviews with a rating of 3 (neutral)\n",
    "- 500 reviews with a rating of 4 (positive)\n",
    "- 1500 reviews with a rating of 5 (extremely positive)\n",
    "\n",
    "This sampling strategy ensures a more balanced distribution of ratings, allowing us to work with a manageable and representative corpus."
   ]
  },
  {
   "cell_type": "code",
   "execution_count": 8,
   "id": "aca2c1ee",
   "metadata": {
    "execution": {
     "iopub.execute_input": "2024-08-18T18:26:20.816379Z",
     "iopub.status.busy": "2024-08-18T18:26:20.815953Z",
     "iopub.status.idle": "2024-08-18T18:26:20.995527Z",
     "shell.execute_reply": "2024-08-18T18:26:20.994217Z"
    },
    "papermill": {
     "duration": 0.205139,
     "end_time": "2024-08-18T18:26:20.998486",
     "exception": false,
     "start_time": "2024-08-18T18:26:20.793347",
     "status": "completed"
    },
    "tags": []
   },
   "outputs": [],
   "source": [
    "one_1500=data[data['Score']==1].sample(n=1500)\n",
    "two_500=data[data['Score']==2].sample(n=500)\n",
    "three_500=data[data['Score']==3].sample(n=500)\n",
    "four_500=data[data['Score']==4].sample(n=500)\n",
    "five_1500=data[data['Score']==5].sample(n=1500)"
   ]
  },
  {
   "cell_type": "code",
   "execution_count": 9,
   "id": "f8b45b71",
   "metadata": {
    "execution": {
     "iopub.execute_input": "2024-08-18T18:26:21.042376Z",
     "iopub.status.busy": "2024-08-18T18:26:21.041940Z",
     "iopub.status.idle": "2024-08-18T18:26:21.051809Z",
     "shell.execute_reply": "2024-08-18T18:26:21.050182Z"
    },
    "papermill": {
     "duration": 0.035626,
     "end_time": "2024-08-18T18:26:21.054813",
     "exception": false,
     "start_time": "2024-08-18T18:26:21.019187",
     "status": "completed"
    },
    "tags": []
   },
   "outputs": [],
   "source": [
    "undersampled_reviews = pd.concat([one_1500, two_500, three_500, four_500, five_1500], axis=0)"
   ]
  },
  {
   "cell_type": "code",
   "execution_count": 10,
   "id": "b0d73525",
   "metadata": {
    "execution": {
     "iopub.execute_input": "2024-08-18T18:26:21.101983Z",
     "iopub.status.busy": "2024-08-18T18:26:21.101440Z",
     "iopub.status.idle": "2024-08-18T18:26:21.329743Z",
     "shell.execute_reply": "2024-08-18T18:26:21.328403Z"
    },
    "papermill": {
     "duration": 0.256644,
     "end_time": "2024-08-18T18:26:21.332672",
     "exception": false,
     "start_time": "2024-08-18T18:26:21.076028",
     "status": "completed"
    },
    "tags": []
   },
   "outputs": [
    {
     "data": {
      "text/plain": [
       "<Axes: xlabel='Score', ylabel='count'>"
      ]
     },
     "execution_count": 10,
     "metadata": {},
     "output_type": "execute_result"
    },
    {
     "data": {
      "image/png": "[encoded data removed]",
      "text/plain": [
       "<Figure size 640x480 with 1 Axes>"
      ]
     },
     "metadata": {},
     "output_type": "display_data"
    }
   ],
   "source": [
    "sns.countplot(data=undersampled_reviews, x='Score')"
   ]
  },
  {
   "cell_type": "markdown",
   "id": "c603d18d",
   "metadata": {
    "papermill": {
     "duration": 0.0206,
     "end_time": "2024-08-18T18:26:21.374469",
     "exception": false,
     "start_time": "2024-08-18T18:26:21.353869",
     "status": "completed"
    },
    "tags": []
   },
   "source": [
    "# Random Sampling of 100K Reviews"
   ]
  },
  {
   "cell_type": "code",
   "execution_count": 11,
   "id": "cc0398ad",
   "metadata": {
    "execution": {
     "iopub.execute_input": "2024-08-18T18:26:21.418497Z",
     "iopub.status.busy": "2024-08-18T18:26:21.418058Z",
     "iopub.status.idle": "2024-08-18T18:26:21.520622Z",
     "shell.execute_reply": "2024-08-18T18:26:21.519234Z"
    },
    "papermill": {
     "duration": 0.128161,
     "end_time": "2024-08-18T18:26:21.523601",
     "exception": false,
     "start_time": "2024-08-18T18:26:21.395440",
     "status": "completed"
    },
    "tags": []
   },
   "outputs": [
    {
     "data": {
      "text/html": [
       "<div>\n",
       "<style scoped>\n",
       "    .dataframe tbody tr th:only-of-type {\n",
       "        vertical-align: middle;\n",
       "    }\n",
       "\n",
       "    .dataframe tbody tr th {\n",
       "        vertical-align: top;\n",
       "    }\n",
       "\n",
       "    .dataframe thead th {\n",
       "        text-align: right;\n",
       "    }\n",
       "</style>\n",
       "<table border=\"1\" class=\"dataframe\">\n",
       "  <thead>\n",
       "    <tr style=\"text-align: right;\">\n",
       "      <th></th>\n",
       "      <th>Id</th>\n",
       "      <th>ProductId</th>\n",
       "      <th>UserId</th>\n",
       "      <th>ProfileName</th>\n",
       "      <th>HelpfulnessNumerator</th>\n",
       "      <th>HelpfulnessDenominator</th>\n",
       "      <th>Score</th>\n",
       "      <th>Time</th>\n",
       "      <th>Summary</th>\n",
       "      <th>Text</th>\n",
       "    </tr>\n",
       "  </thead>\n",
       "  <tbody>\n",
       "    <tr>\n",
       "      <th>165256</th>\n",
       "      <td>165257</td>\n",
       "      <td>B000EVG8J2</td>\n",
       "      <td>A1L01D2BD3RKVO</td>\n",
       "      <td>B. Miller \"pet person\"</td>\n",
       "      <td>0</td>\n",
       "      <td>0</td>\n",
       "      <td>5</td>\n",
       "      <td>1268179200</td>\n",
       "      <td>Crunchy &amp; Good Gluten-Free Sandwich Cookies!</td>\n",
       "      <td>Having tried a couple of other brands of glute...</td>\n",
       "    </tr>\n",
       "    <tr>\n",
       "      <th>231465</th>\n",
       "      <td>231466</td>\n",
       "      <td>B0000BXJIS</td>\n",
       "      <td>A3U62RE5XZDP0G</td>\n",
       "      <td>Marty</td>\n",
       "      <td>0</td>\n",
       "      <td>0</td>\n",
       "      <td>5</td>\n",
       "      <td>1298937600</td>\n",
       "      <td>great kitty treats</td>\n",
       "      <td>My cat loves these treats. If ever I can't fin...</td>\n",
       "    </tr>\n",
       "    <tr>\n",
       "      <th>427827</th>\n",
       "      <td>427828</td>\n",
       "      <td>B008FHUFAU</td>\n",
       "      <td>AOXC0JQQZGGB6</td>\n",
       "      <td>Kenneth Shevlin</td>\n",
       "      <td>0</td>\n",
       "      <td>2</td>\n",
       "      <td>3</td>\n",
       "      <td>1224028800</td>\n",
       "      <td>COFFEE TASTE</td>\n",
       "      <td>A little less than I expected.  It tends to ha...</td>\n",
       "    </tr>\n",
       "    <tr>\n",
       "      <th>433954</th>\n",
       "      <td>433955</td>\n",
       "      <td>B006BXV14E</td>\n",
       "      <td>A3PWPNZVMNX3PA</td>\n",
       "      <td>rareoopdvds</td>\n",
       "      <td>0</td>\n",
       "      <td>1</td>\n",
       "      <td>2</td>\n",
       "      <td>1335312000</td>\n",
       "      <td>So the Mini-Wheats were too big?</td>\n",
       "      <td>First there was Frosted Mini-Wheats, in origin...</td>\n",
       "    </tr>\n",
       "    <tr>\n",
       "      <th>70260</th>\n",
       "      <td>70261</td>\n",
       "      <td>B007I7Z3Z0</td>\n",
       "      <td>A1XNZ7PCE45KK7</td>\n",
       "      <td>Og8ys1</td>\n",
       "      <td>0</td>\n",
       "      <td>2</td>\n",
       "      <td>5</td>\n",
       "      <td>1334707200</td>\n",
       "      <td>Great Taste . . .</td>\n",
       "      <td>and I want to congratulate the graphic artist ...</td>\n",
       "    </tr>\n",
       "  </tbody>\n",
       "</table>\n",
       "</div>"
      ],
      "text/plain": [
       "            Id   ProductId          UserId             ProfileName  \\\n",
       "165256  165257  B000EVG8J2  A1L01D2BD3RKVO  B. Miller \"pet person\"   \n",
       "231465  231466  B0000BXJIS  A3U62RE5XZDP0G                   Marty   \n",
       "427827  427828  B008FHUFAU   AOXC0JQQZGGB6         Kenneth Shevlin   \n",
       "433954  433955  B006BXV14E  A3PWPNZVMNX3PA             rareoopdvds   \n",
       "70260    70261  B007I7Z3Z0  A1XNZ7PCE45KK7                  Og8ys1   \n",
       "\n",
       "        HelpfulnessNumerator  HelpfulnessDenominator  Score        Time  \\\n",
       "165256                     0                       0      5  1268179200   \n",
       "231465                     0                       0      5  1298937600   \n",
       "427827                     0                       2      3  1224028800   \n",
       "433954                     0                       1      2  1335312000   \n",
       "70260                      0                       2      5  1334707200   \n",
       "\n",
       "                                             Summary  \\\n",
       "165256  Crunchy & Good Gluten-Free Sandwich Cookies!   \n",
       "231465                            great kitty treats   \n",
       "427827                                  COFFEE TASTE   \n",
       "433954              So the Mini-Wheats were too big?   \n",
       "70260                              Great Taste . . .   \n",
       "\n",
       "                                                     Text  \n",
       "165256  Having tried a couple of other brands of glute...  \n",
       "231465  My cat loves these treats. If ever I can't fin...  \n",
       "427827  A little less than I expected.  It tends to ha...  \n",
       "433954  First there was Frosted Mini-Wheats, in origin...  \n",
       "70260   and I want to congratulate the graphic artist ...  "
      ]
     },
     "execution_count": 11,
     "metadata": {},
     "output_type": "execute_result"
    }
   ],
   "source": [
    "sample_100K_revs = data.sample(n=100000, random_state=42)\n",
    "sample_100K_revs.head()"
   ]
  },
  {
   "cell_type": "markdown",
   "id": "d1f3b39f",
   "metadata": {
    "papermill": {
     "duration": 0.021382,
     "end_time": "2024-08-18T18:26:21.566795",
     "exception": false,
     "start_time": "2024-08-18T18:26:21.545413",
     "status": "completed"
    },
    "tags": []
   },
   "source": [
    "# Writing Corpora"
   ]
  },
  {
   "cell_type": "code",
   "execution_count": 12,
   "id": "c9871139",
   "metadata": {
    "execution": {
     "iopub.execute_input": "2024-08-18T18:26:21.611531Z",
     "iopub.status.busy": "2024-08-18T18:26:21.611097Z",
     "iopub.status.idle": "2024-08-18T18:26:21.766126Z",
     "shell.execute_reply": "2024-08-18T18:26:21.764752Z"
    },
    "papermill": {
     "duration": 0.180521,
     "end_time": "2024-08-18T18:26:21.768960",
     "exception": false,
     "start_time": "2024-08-18T18:26:21.588439",
     "status": "completed"
    },
    "tags": []
   },
   "outputs": [],
   "source": [
    "# small corpus\n",
    "undersampled_reviews.to_csv(\"/kaggle/working/small_corpus.csv\", index=False)\n"
   ]
  },
  {
   "cell_type": "code",
   "execution_count": 13,
   "id": "1d4f2c40",
   "metadata": {
    "execution": {
     "iopub.execute_input": "2024-08-18T18:26:21.815036Z",
     "iopub.status.busy": "2024-08-18T18:26:21.813859Z",
     "iopub.status.idle": "2024-08-18T18:26:24.868835Z",
     "shell.execute_reply": "2024-08-18T18:26:24.867529Z"
    },
    "papermill": {
     "duration": 3.080592,
     "end_time": "2024-08-18T18:26:24.871716",
     "exception": false,
     "start_time": "2024-08-18T18:26:21.791124",
     "status": "completed"
    },
    "tags": []
   },
   "outputs": [],
   "source": [
    "\n",
    "# big corpus\n",
    "sample_100K_revs.to_csv(\"/kaggle/working/big_corpus.csv\", index=False)"
   ]
  },
  {
   "cell_type": "markdown",
   "id": "0784c8f9",
   "metadata": {
    "papermill": {
     "duration": 0.021262,
     "end_time": "2024-08-18T18:26:24.915464",
     "exception": false,
     "start_time": "2024-08-18T18:26:24.894202",
     "status": "completed"
    },
    "tags": []
   },
   "source": [
    "# Basic Text Processing using NLTK"
   ]
  },
  {
   "cell_type": "markdown",
   "id": "5223f7f9",
   "metadata": {
    "papermill": {
     "duration": 0.021914,
     "end_time": "2024-08-18T18:26:25.022329",
     "exception": false,
     "start_time": "2024-08-18T18:26:25.000415",
     "status": "completed"
    },
    "tags": []
   },
   "source": []
  },
  {
   "cell_type": "code",
   "execution_count": 14,
   "id": "065088d5",
   "metadata": {
    "execution": {
     "iopub.execute_input": "2024-08-18T18:26:25.068086Z",
     "iopub.status.busy": "2024-08-18T18:26:25.067632Z",
     "iopub.status.idle": "2024-08-18T18:26:25.075362Z",
     "shell.execute_reply": "2024-08-18T18:26:25.073994Z"
    },
    "papermill": {
     "duration": 0.033174,
     "end_time": "2024-08-18T18:26:25.077772",
     "exception": false,
     "start_time": "2024-08-18T18:26:25.044598",
     "status": "completed"
    },
    "tags": []
   },
   "outputs": [
    {
     "data": {
      "text/plain": [
       "(4500, 10)"
      ]
     },
     "execution_count": 14,
     "metadata": {},
     "output_type": "execute_result"
    }
   ],
   "source": [
    "reviews=undersampled_reviews\n",
    "reviews.shape"
   ]
  },
  {
   "cell_type": "code",
   "execution_count": 15,
   "id": "8f9fa8e2",
   "metadata": {
    "execution": {
     "iopub.execute_input": "2024-08-18T18:26:25.124989Z",
     "iopub.status.busy": "2024-08-18T18:26:25.124501Z",
     "iopub.status.idle": "2024-08-18T18:26:25.131848Z",
     "shell.execute_reply": "2024-08-18T18:26:25.130552Z"
    },
    "papermill": {
     "duration": 0.034501,
     "end_time": "2024-08-18T18:26:25.134522",
     "exception": false,
     "start_time": "2024-08-18T18:26:25.100021",
     "status": "completed"
    },
    "tags": []
   },
   "outputs": [
    {
     "name": "stdout",
     "output_type": "stream",
     "text": [
      "Quick, someone please hand me a towel so I can wipe this off my tongue.  The can says: \"It's what soda should always have been\".  If all \"regular\" sodas were like this, sodas would be only tolerated, not drunk by the gallons by a large percentage of the population.  That's not to say that \"regular\" sodas are good, I don't like them anymore either since eliminating high fructose corn syrup from my diet.  This has a very bland taste & a horrible cling-to-the-back-of-the-tongue aftertaste.  I use stevia all the time & was surprised at the odd flavor.  This also does not taste anything like Mt. Dew.\n"
     ]
    }
   ],
   "source": [
    "example = reviews['Text'].iloc[49]\n",
    "print(example)"
   ]
  },
  {
   "cell_type": "code",
   "execution_count": 16,
   "id": "d052cc2e",
   "metadata": {
    "execution": {
     "iopub.execute_input": "2024-08-18T18:26:25.180894Z",
     "iopub.status.busy": "2024-08-18T18:26:25.180430Z",
     "iopub.status.idle": "2024-08-18T18:26:25.207998Z",
     "shell.execute_reply": "2024-08-18T18:26:25.206657Z"
    },
    "papermill": {
     "duration": 0.053883,
     "end_time": "2024-08-18T18:26:25.210937",
     "exception": false,
     "start_time": "2024-08-18T18:26:25.157054",
     "status": "completed"
    },
    "tags": []
   },
   "outputs": [
    {
     "data": {
      "text/plain": [
       "['Quick', ',', 'someone', 'please', 'hand', 'me', 'a', 'towel', 'so', 'I']"
      ]
     },
     "execution_count": 16,
     "metadata": {},
     "output_type": "execute_result"
    }
   ],
   "source": [
    "tokens = nltk.word_tokenize(example)\n",
    "tokens[:10]"
   ]
  },
  {
   "cell_type": "code",
   "execution_count": 17,
   "id": "cab4f6f1",
   "metadata": {
    "execution": {
     "iopub.execute_input": "2024-08-18T18:26:25.257414Z",
     "iopub.status.busy": "2024-08-18T18:26:25.256306Z",
     "iopub.status.idle": "2024-08-18T18:26:25.421511Z",
     "shell.execute_reply": "2024-08-18T18:26:25.420259Z"
    },
    "papermill": {
     "duration": 0.191246,
     "end_time": "2024-08-18T18:26:25.424323",
     "exception": false,
     "start_time": "2024-08-18T18:26:25.233077",
     "status": "completed"
    },
    "tags": []
   },
   "outputs": [
    {
     "data": {
      "text/plain": [
       "[('Quick', 'NNP'),\n",
       " (',', ','),\n",
       " ('someone', 'NN'),\n",
       " ('please', 'NN'),\n",
       " ('hand', 'NN'),\n",
       " ('me', 'PRP'),\n",
       " ('a', 'DT'),\n",
       " ('towel', 'NN'),\n",
       " ('so', 'IN'),\n",
       " ('I', 'PRP')]"
      ]
     },
     "execution_count": 17,
     "metadata": {},
     "output_type": "execute_result"
    }
   ],
   "source": [
    "# part of speech tagging\n",
    "tagged = nltk.pos_tag(tokens)\n",
    "tagged[:10]"
   ]
  },
  {
   "cell_type": "code",
   "execution_count": 18,
   "id": "a315a0df",
   "metadata": {
    "execution": {
     "iopub.execute_input": "2024-08-18T18:26:25.471400Z",
     "iopub.status.busy": "2024-08-18T18:26:25.470953Z",
     "iopub.status.idle": "2024-08-18T18:26:25.663611Z",
     "shell.execute_reply": "2024-08-18T18:26:25.660890Z"
    },
    "papermill": {
     "duration": 0.219618,
     "end_time": "2024-08-18T18:26:25.666718",
     "exception": false,
     "start_time": "2024-08-18T18:26:25.447100",
     "status": "completed"
    },
    "tags": []
   },
   "outputs": [
    {
     "name": "stdout",
     "output_type": "stream",
     "text": [
      "(S\n",
      "  (GPE Quick/NNP)\n",
      "  ,/,\n",
      "  someone/NN\n",
      "  please/NN\n",
      "  hand/NN\n",
      "  me/PRP\n",
      "  a/DT\n",
      "  towel/NN\n",
      "  so/IN\n",
      "  I/PRP\n",
      "  can/MD\n",
      "  wipe/VB\n",
      "  this/DT\n",
      "  off/RP\n",
      "  my/PRP$\n",
      "  tongue/NN\n",
      "  ./.\n",
      "  The/DT\n",
      "  can/MD\n",
      "  says/VBZ\n",
      "  :/:\n",
      "  ``/``\n",
      "  It/PRP\n",
      "  's/VBZ\n",
      "  what/WP\n",
      "  soda/NN\n",
      "  should/MD\n",
      "  always/RB\n",
      "  have/VB\n",
      "  been/VBN\n",
      "  ''/''\n",
      "  ./.\n",
      "  If/IN\n",
      "  all/DT\n",
      "  ``/``\n",
      "  regular/JJ\n",
      "  ''/''\n",
      "  sodas/NNS\n",
      "  were/VBD\n",
      "  like/IN\n",
      "  this/DT\n",
      "  ,/,\n",
      "  sodas/VB\n",
      "  would/MD\n",
      "  be/VB\n",
      "  only/RB\n",
      "  tolerated/VBN\n",
      "  ,/,\n",
      "  not/RB\n",
      "  drunk/VBN\n",
      "  by/IN\n",
      "  the/DT\n",
      "  gallons/NNS\n",
      "  by/IN\n",
      "  a/DT\n",
      "  large/JJ\n",
      "  percentage/NN\n",
      "  of/IN\n",
      "  the/DT\n",
      "  population/NN\n",
      "  ./.\n",
      "  That/DT\n",
      "  's/VBZ\n",
      "  not/RB\n",
      "  to/TO\n",
      "  say/VB\n",
      "  that/IN\n",
      "  ``/``\n",
      "  regular/JJ\n",
      "  ''/''\n",
      "  sodas/NNS\n",
      "  are/VBP\n",
      "  good/JJ\n",
      "  ,/,\n",
      "  I/PRP\n",
      "  do/VBP\n",
      "  n't/RB\n",
      "  like/VB\n",
      "  them/PRP\n",
      "  anymore/RB\n",
      "  either/DT\n",
      "  since/IN\n",
      "  eliminating/VBG\n",
      "  high/JJ\n",
      "  fructose/JJ\n",
      "  corn/NN\n",
      "  syrup/NN\n",
      "  from/IN\n",
      "  my/PRP$\n",
      "  diet/NN\n",
      "  ./.\n",
      "  This/DT\n",
      "  has/VBZ\n",
      "  a/DT\n",
      "  very/RB\n",
      "  bland/JJ\n",
      "  taste/NN\n",
      "  &/CC\n",
      "  a/DT\n",
      "  horrible/JJ\n",
      "  cling-to-the-back-of-the-tongue/JJ\n",
      "  aftertaste/NN\n",
      "  ./.\n",
      "  I/PRP\n",
      "  use/VBP\n",
      "  stevia/JJ\n",
      "  all/PDT\n",
      "  the/DT\n",
      "  time/NN\n",
      "  &/CC\n",
      "  was/VBD\n",
      "  surprised/VBN\n",
      "  at/IN\n",
      "  the/DT\n",
      "  odd/JJ\n",
      "  flavor/NN\n",
      "  ./.\n",
      "  This/DT\n",
      "  also/RB\n",
      "  does/VBZ\n",
      "  not/RB\n",
      "  taste/VB\n",
      "  anything/NN\n",
      "  like/IN\n",
      "  Mt/NNP\n",
      "  ./.\n",
      "  Dew/NNP\n",
      "  ./.)\n"
     ]
    }
   ],
   "source": [
    "entities = nltk.chunk.ne_chunk(tagged)\n",
    "entities.pprint()"
   ]
  },
  {
   "cell_type": "markdown",
   "id": "dbd10c24",
   "metadata": {
    "papermill": {
     "duration": 0.021843,
     "end_time": "2024-08-18T18:26:25.710947",
     "exception": false,
     "start_time": "2024-08-18T18:26:25.689104",
     "status": "completed"
    },
    "tags": []
   },
   "source": [
    "# Sentiment Scoring using NLTK Opinion Lexicon"
   ]
  },
  {
   "cell_type": "markdown",
   "id": "8e15ec21",
   "metadata": {
    "papermill": {
     "duration": 0.022165,
     "end_time": "2024-08-18T18:26:25.758551",
     "exception": false,
     "start_time": "2024-08-18T18:26:25.736386",
     "status": "completed"
    },
    "tags": []
   },
   "source": []
  },
  {
   "cell_type": "code",
   "execution_count": 19,
   "id": "e649351b",
   "metadata": {
    "execution": {
     "iopub.execute_input": "2024-08-18T18:26:25.804999Z",
     "iopub.status.busy": "2024-08-18T18:26:25.804488Z",
     "iopub.status.idle": "2024-08-18T18:26:25.811169Z",
     "shell.execute_reply": "2024-08-18T18:26:25.809804Z"
    },
    "papermill": {
     "duration": 0.033472,
     "end_time": "2024-08-18T18:26:25.814234",
     "exception": false,
     "start_time": "2024-08-18T18:26:25.780762",
     "status": "completed"
    },
    "tags": []
   },
   "outputs": [],
   "source": [
    "\n",
    "import nltk\n",
    "from nltk.corpus import opinion_lexicon\n",
    "from nltk.tokenize import word_tokenize, sent_tokenize\n",
    "from string import punctuation\n",
    "from nltk.tokenize import TreebankWordTokenizer\n"
   ]
  },
  {
   "cell_type": "code",
   "execution_count": 20,
   "id": "378cd4e2",
   "metadata": {
    "execution": {
     "iopub.execute_input": "2024-08-18T18:26:25.861259Z",
     "iopub.status.busy": "2024-08-18T18:26:25.860792Z",
     "iopub.status.idle": "2024-08-18T18:26:25.918708Z",
     "shell.execute_reply": "2024-08-18T18:26:25.917479Z"
    },
    "papermill": {
     "duration": 0.084658,
     "end_time": "2024-08-18T18:26:25.921669",
     "exception": false,
     "start_time": "2024-08-18T18:26:25.837011",
     "status": "completed"
    },
    "tags": []
   },
   "outputs": [],
   "source": [
    "pos_words = list(opinion_lexicon.positive())\n",
    "neg_words = list(opinion_lexicon.negative())"
   ]
  },
  {
   "cell_type": "code",
   "execution_count": 21,
   "id": "e8e71a9b",
   "metadata": {
    "execution": {
     "iopub.execute_input": "2024-08-18T18:26:25.968753Z",
     "iopub.status.busy": "2024-08-18T18:26:25.968293Z",
     "iopub.status.idle": "2024-08-18T18:26:25.977300Z",
     "shell.execute_reply": "2024-08-18T18:26:25.975976Z"
    },
    "papermill": {
     "duration": 0.035688,
     "end_time": "2024-08-18T18:26:25.980010",
     "exception": false,
     "start_time": "2024-08-18T18:26:25.944322",
     "status": "completed"
    },
    "tags": []
   },
   "outputs": [],
   "source": [
    "def get_sentiment_score_oplex(text):\n",
    "    \n",
    "    \"\"\"\n",
    "        This method returns the sentiment score of a given text using nltk opinion lexicon.\n",
    "        input: text\n",
    "        output: numeric (double) score, >0 means positive sentiment and <0 means negative sentiment.\n",
    "    \"\"\"    \n",
    "    total_score = 0\n",
    "\n",
    "    raw_sentences = sent_tokenize(text)\n",
    "    \n",
    "    for sentence in raw_sentences:\n",
    "\n",
    "        sent_score = 0     \n",
    "        sentence = str(sentence)\n",
    "        sentence = sentence.replace(\"<br />\",\" \").translate(str.maketrans('','',punctuation)).lower()\n",
    "        tokens = TreebankWordTokenizer().tokenize(text)\n",
    "        for token in tokens:\n",
    "            sent_score = sent_score + 1 if token in pos_words else (sent_score - 1 if token in neg_words else sent_score)\n",
    "        total_score = total_score + (sent_score / len(tokens))\n",
    "\n",
    "    \n",
    "    return total_score"
   ]
  },
  {
   "cell_type": "code",
   "execution_count": 22,
   "id": "4d63beb7",
   "metadata": {
    "execution": {
     "iopub.execute_input": "2024-08-18T18:26:26.026848Z",
     "iopub.status.busy": "2024-08-18T18:26:26.026412Z",
     "iopub.status.idle": "2024-08-18T18:26:26.043183Z",
     "shell.execute_reply": "2024-08-18T18:26:26.041849Z"
    },
    "papermill": {
     "duration": 0.043466,
     "end_time": "2024-08-18T18:26:26.045877",
     "exception": false,
     "start_time": "2024-08-18T18:26:26.002411",
     "status": "completed"
    },
    "tags": []
   },
   "outputs": [
    {
     "data": {
      "text/html": [
       "<div>\n",
       "<style scoped>\n",
       "    .dataframe tbody tr th:only-of-type {\n",
       "        vertical-align: middle;\n",
       "    }\n",
       "\n",
       "    .dataframe tbody tr th {\n",
       "        vertical-align: top;\n",
       "    }\n",
       "\n",
       "    .dataframe thead th {\n",
       "        text-align: right;\n",
       "    }\n",
       "</style>\n",
       "<table border=\"1\" class=\"dataframe\">\n",
       "  <thead>\n",
       "    <tr style=\"text-align: right;\">\n",
       "      <th></th>\n",
       "      <th>Id</th>\n",
       "      <th>ProductId</th>\n",
       "      <th>UserId</th>\n",
       "      <th>ProfileName</th>\n",
       "      <th>HelpfulnessNumerator</th>\n",
       "      <th>HelpfulnessDenominator</th>\n",
       "      <th>Score</th>\n",
       "      <th>Time</th>\n",
       "      <th>Summary</th>\n",
       "      <th>Text</th>\n",
       "    </tr>\n",
       "  </thead>\n",
       "  <tbody>\n",
       "    <tr>\n",
       "      <th>401373</th>\n",
       "      <td>401374</td>\n",
       "      <td>B000CQG8B2</td>\n",
       "      <td>A10Q7DZ2RN5JSU</td>\n",
       "      <td>M. Lyons</td>\n",
       "      <td>0</td>\n",
       "      <td>0</td>\n",
       "      <td>1</td>\n",
       "      <td>1317340800</td>\n",
       "      <td>Blegh</td>\n",
       "      <td>It's bland while you're drinking it without an...</td>\n",
       "    </tr>\n",
       "    <tr>\n",
       "      <th>441327</th>\n",
       "      <td>441328</td>\n",
       "      <td>B004UEKLZ6</td>\n",
       "      <td>A34WZL424RJLGD</td>\n",
       "      <td>Carol G. Kaplan \"bytheseatofmypants\"</td>\n",
       "      <td>1</td>\n",
       "      <td>2</td>\n",
       "      <td>1</td>\n",
       "      <td>1342569600</td>\n",
       "      <td>Don't buy through Amazon buy at grocery store</td>\n",
       "      <td>Apparently Karo sold to food service companies...</td>\n",
       "    </tr>\n",
       "    <tr>\n",
       "      <th>101933</th>\n",
       "      <td>101934</td>\n",
       "      <td>B0031UBXDE</td>\n",
       "      <td>A1EB65JZ9FBB5L</td>\n",
       "      <td>busymom09</td>\n",
       "      <td>4</td>\n",
       "      <td>8</td>\n",
       "      <td>1</td>\n",
       "      <td>1283299200</td>\n",
       "      <td>Great but WAY overpriced!</td>\n",
       "      <td>My daughter LOVES Ella's Kitchen.  The food is...</td>\n",
       "    </tr>\n",
       "    <tr>\n",
       "      <th>479534</th>\n",
       "      <td>479535</td>\n",
       "      <td>B000TMZR98</td>\n",
       "      <td>A18DM6R5C0QH1P</td>\n",
       "      <td>Sara Wanous</td>\n",
       "      <td>0</td>\n",
       "      <td>0</td>\n",
       "      <td>1</td>\n",
       "      <td>1281657600</td>\n",
       "      <td>Very Disappointed, Not Durable at All</td>\n",
       "      <td>I bought this toy because it touted being the ...</td>\n",
       "    </tr>\n",
       "    <tr>\n",
       "      <th>324192</th>\n",
       "      <td>324193</td>\n",
       "      <td>B002QO87TY</td>\n",
       "      <td>A1BFPW6FP0DPNF</td>\n",
       "      <td>Petite Fleur</td>\n",
       "      <td>0</td>\n",
       "      <td>0</td>\n",
       "      <td>1</td>\n",
       "      <td>1320624000</td>\n",
       "      <td>Higher Price,  Very little Taste!</td>\n",
       "      <td>I love cheese straws!  Anytime I can find them...</td>\n",
       "    </tr>\n",
       "  </tbody>\n",
       "</table>\n",
       "</div>"
      ],
      "text/plain": [
       "            Id   ProductId          UserId  \\\n",
       "401373  401374  B000CQG8B2  A10Q7DZ2RN5JSU   \n",
       "441327  441328  B004UEKLZ6  A34WZL424RJLGD   \n",
       "101933  101934  B0031UBXDE  A1EB65JZ9FBB5L   \n",
       "479534  479535  B000TMZR98  A18DM6R5C0QH1P   \n",
       "324192  324193  B002QO87TY  A1BFPW6FP0DPNF   \n",
       "\n",
       "                                 ProfileName  HelpfulnessNumerator  \\\n",
       "401373                              M. Lyons                     0   \n",
       "441327  Carol G. Kaplan \"bytheseatofmypants\"                     1   \n",
       "101933                             busymom09                     4   \n",
       "479534                           Sara Wanous                     0   \n",
       "324192                          Petite Fleur                     0   \n",
       "\n",
       "        HelpfulnessDenominator  Score        Time  \\\n",
       "401373                       0      1  1317340800   \n",
       "441327                       2      1  1342569600   \n",
       "101933                       8      1  1283299200   \n",
       "479534                       0      1  1281657600   \n",
       "324192                       0      1  1320624000   \n",
       "\n",
       "                                              Summary  \\\n",
       "401373                                          Blegh   \n",
       "441327  Don't buy through Amazon buy at grocery store   \n",
       "101933                      Great but WAY overpriced!   \n",
       "479534          Very Disappointed, Not Durable at All   \n",
       "324192              Higher Price,  Very little Taste!   \n",
       "\n",
       "                                                     Text  \n",
       "401373  It's bland while you're drinking it without an...  \n",
       "441327  Apparently Karo sold to food service companies...  \n",
       "101933  My daughter LOVES Ella's Kitchen.  The food is...  \n",
       "479534  I bought this toy because it touted being the ...  \n",
       "324192  I love cheese straws!  Anytime I can find them...  "
      ]
     },
     "execution_count": 22,
     "metadata": {},
     "output_type": "execute_result"
    }
   ],
   "source": [
    "reviews.head()"
   ]
  },
  {
   "cell_type": "code",
   "execution_count": 23,
   "id": "e07dbbdc",
   "metadata": {
    "execution": {
     "iopub.execute_input": "2024-08-18T18:26:26.095330Z",
     "iopub.status.busy": "2024-08-18T18:26:26.093884Z",
     "iopub.status.idle": "2024-08-18T18:26:26.111493Z",
     "shell.execute_reply": "2024-08-18T18:26:26.109983Z"
    },
    "papermill": {
     "duration": 0.045277,
     "end_time": "2024-08-18T18:26:26.114302",
     "exception": false,
     "start_time": "2024-08-18T18:26:26.069025",
     "status": "completed"
    },
    "tags": []
   },
   "outputs": [
    {
     "data": {
      "text/plain": [
       "(4500, 10)"
      ]
     },
     "execution_count": 23,
     "metadata": {},
     "output_type": "execute_result"
    }
   ],
   "source": [
    "# dropping any missing values from the targetted text column\n",
    "reviews.dropna(subset=['Text'], inplace=True)\n",
    "reviews.shape"
   ]
  },
  {
   "cell_type": "code",
   "execution_count": 24,
   "id": "87312b46",
   "metadata": {
    "execution": {
     "iopub.execute_input": "2024-08-18T18:26:26.162585Z",
     "iopub.status.busy": "2024-08-18T18:26:26.162161Z",
     "iopub.status.idle": "2024-08-18T18:32:40.482212Z",
     "shell.execute_reply": "2024-08-18T18:32:40.480775Z"
    },
    "papermill": {
     "duration": 374.348142,
     "end_time": "2024-08-18T18:32:40.485602",
     "exception": false,
     "start_time": "2024-08-18T18:26:26.137460",
     "status": "completed"
    },
    "tags": []
   },
   "outputs": [],
   "source": [
    "reviews['oplex_sentiment_score'] = reviews['Text'].apply(lambda x: get_sentiment_score_oplex(x))"
   ]
  },
  {
   "cell_type": "code",
   "execution_count": 25,
   "id": "bf835128",
   "metadata": {
    "execution": {
     "iopub.execute_input": "2024-08-18T18:32:40.535863Z",
     "iopub.status.busy": "2024-08-18T18:32:40.535428Z",
     "iopub.status.idle": "2024-08-18T18:32:40.553518Z",
     "shell.execute_reply": "2024-08-18T18:32:40.552160Z"
    },
    "papermill": {
     "duration": 0.045871,
     "end_time": "2024-08-18T18:32:40.556467",
     "exception": false,
     "start_time": "2024-08-18T18:32:40.510596",
     "status": "completed"
    },
    "tags": []
   },
   "outputs": [
    {
     "data": {
      "text/html": [
       "<div>\n",
       "<style scoped>\n",
       "    .dataframe tbody tr th:only-of-type {\n",
       "        vertical-align: middle;\n",
       "    }\n",
       "\n",
       "    .dataframe tbody tr th {\n",
       "        vertical-align: top;\n",
       "    }\n",
       "\n",
       "    .dataframe thead th {\n",
       "        text-align: right;\n",
       "    }\n",
       "</style>\n",
       "<table border=\"1\" class=\"dataframe\">\n",
       "  <thead>\n",
       "    <tr style=\"text-align: right;\">\n",
       "      <th></th>\n",
       "      <th>Text</th>\n",
       "      <th>oplex_sentiment_score</th>\n",
       "    </tr>\n",
       "  </thead>\n",
       "  <tbody>\n",
       "    <tr>\n",
       "      <th>275837</th>\n",
       "      <td>Postum is great! It tastes good and has no caf...</td>\n",
       "      <td>0.177778</td>\n",
       "    </tr>\n",
       "    <tr>\n",
       "      <th>451960</th>\n",
       "      <td>Keaton was amazing in BEETLEJUICE, one of Tim ...</td>\n",
       "      <td>0.034188</td>\n",
       "    </tr>\n",
       "  </tbody>\n",
       "</table>\n",
       "</div>"
      ],
      "text/plain": [
       "                                                     Text  \\\n",
       "275837  Postum is great! It tastes good and has no caf...   \n",
       "451960  Keaton was amazing in BEETLEJUICE, one of Tim ...   \n",
       "\n",
       "        oplex_sentiment_score  \n",
       "275837               0.177778  \n",
       "451960               0.034188  "
      ]
     },
     "execution_count": 25,
     "metadata": {},
     "output_type": "execute_result"
    }
   ],
   "source": [
    "reviews[['Text','oplex_sentiment_score']].sample(2)"
   ]
  },
  {
   "cell_type": "code",
   "execution_count": 26,
   "id": "f566cefa",
   "metadata": {
    "execution": {
     "iopub.execute_input": "2024-08-18T18:32:40.605721Z",
     "iopub.status.busy": "2024-08-18T18:32:40.604835Z",
     "iopub.status.idle": "2024-08-18T18:32:41.133486Z",
     "shell.execute_reply": "2024-08-18T18:32:41.132232Z"
    },
    "papermill": {
     "duration": 0.556225,
     "end_time": "2024-08-18T18:32:41.136269",
     "exception": false,
     "start_time": "2024-08-18T18:32:40.580044",
     "status": "completed"
    },
    "tags": []
   },
   "outputs": [
    {
     "name": "stderr",
     "output_type": "stream",
     "text": [
      "/opt/conda/lib/python3.10/site-packages/seaborn/_oldcore.py:1119: FutureWarning: use_inf_as_na option is deprecated and will be removed in a future version. Convert inf values to NaN before operating instead.\n",
      "  with pd.option_context('mode.use_inf_as_na', True):\n"
     ]
    },
    {
     "data": {
      "image/png": "[encoded data removed]",
      "text/plain": [
       "<Figure size 2000x1000 with 1 Axes>"
      ]
     },
     "metadata": {},
     "output_type": "display_data"
    }
   ],
   "source": [
    "fig , ax = plt.subplots(nrows=1, ncols=1, figsize=(20,10))\n",
    "sns.histplot(x='oplex_sentiment_score',\\\n",
    "             data=reviews.query(\"oplex_sentiment_score < 1 and oplex_sentiment_score>-1\"), ax=ax)\n",
    "plt.show()"
   ]
  },
  {
   "cell_type": "code",
   "execution_count": 27,
   "id": "f338cd71",
   "metadata": {
    "execution": {
     "iopub.execute_input": "2024-08-18T18:32:41.186148Z",
     "iopub.status.busy": "2024-08-18T18:32:41.185659Z",
     "iopub.status.idle": "2024-08-18T18:32:41.195208Z",
     "shell.execute_reply": "2024-08-18T18:32:41.193700Z"
    },
    "papermill": {
     "duration": 0.037681,
     "end_time": "2024-08-18T18:32:41.197769",
     "exception": false,
     "start_time": "2024-08-18T18:32:41.160088",
     "status": "completed"
    },
    "tags": []
   },
   "outputs": [],
   "source": [
    "reviews['oplex_sentiment'] = \\\n",
    "    reviews['oplex_sentiment_score'].apply(lambda x: \"positive\" if x>0.1 else (\"negative\" if x<0 else \"neutral\"))"
   ]
  },
  {
   "cell_type": "code",
   "execution_count": 28,
   "id": "8c4cd753",
   "metadata": {
    "execution": {
     "iopub.execute_input": "2024-08-18T18:32:41.248138Z",
     "iopub.status.busy": "2024-08-18T18:32:41.247708Z",
     "iopub.status.idle": "2024-08-18T18:32:41.562505Z",
     "shell.execute_reply": "2024-08-18T18:32:41.560997Z"
    },
    "papermill": {
     "duration": 0.343772,
     "end_time": "2024-08-18T18:32:41.565627",
     "exception": false,
     "start_time": "2024-08-18T18:32:41.221855",
     "status": "completed"
    },
    "tags": []
   },
   "outputs": [
    {
     "data": {
      "text/plain": [
       "<Axes: xlabel='Score', ylabel='count'>"
      ]
     },
     "execution_count": 28,
     "metadata": {},
     "output_type": "execute_result"
    },
    {
     "data": {
      "image/png": "[encoded data removed]",
      "text/plain": [
       "<Figure size 640x480 with 1 Axes>"
      ]
     },
     "metadata": {},
     "output_type": "display_data"
    }
   ],
   "source": [
    "sns.countplot(x='Score', hue='oplex_sentiment' ,data = reviews)"
   ]
  },
  {
   "cell_type": "code",
   "execution_count": 29,
   "id": "8c5b0201",
   "metadata": {
    "execution": {
     "iopub.execute_input": "2024-08-18T18:32:41.616625Z",
     "iopub.status.busy": "2024-08-18T18:32:41.616227Z",
     "iopub.status.idle": "2024-08-18T18:32:42.005707Z",
     "shell.execute_reply": "2024-08-18T18:32:42.004244Z"
    },
    "papermill": {
     "duration": 0.417684,
     "end_time": "2024-08-18T18:32:42.008233",
     "exception": false,
     "start_time": "2024-08-18T18:32:41.590549",
     "status": "completed"
    },
    "tags": []
   },
   "outputs": [
    {
     "name": "stderr",
     "output_type": "stream",
     "text": [
      "/opt/conda/lib/python3.10/site-packages/seaborn/categorical.py:1794: FutureWarning: use_inf_as_na option is deprecated and will be removed in a future version. Convert inf values to NaN before operating instead.\n",
      "  with pd.option_context('mode.use_inf_as_na', True):\n",
      "/opt/conda/lib/python3.10/site-packages/seaborn/categorical.py:1794: FutureWarning: use_inf_as_na option is deprecated and will be removed in a future version. Convert inf values to NaN before operating instead.\n",
      "  with pd.option_context('mode.use_inf_as_na', True):\n",
      "/opt/conda/lib/python3.10/site-packages/seaborn/categorical.py:1794: FutureWarning: use_inf_as_na option is deprecated and will be removed in a future version. Convert inf values to NaN before operating instead.\n",
      "  with pd.option_context('mode.use_inf_as_na', True):\n"
     ]
    },
    {
     "data": {
      "text/plain": [
       "<Axes: xlabel='oplex_sentiment', ylabel='Score'>"
      ]
     },
     "execution_count": 29,
     "metadata": {},
     "output_type": "execute_result"
    },
    {
     "data": {
      "image/png": "[encoded data removed]",
      "text/plain": [
       "<Figure size 640x480 with 1 Axes>"
      ]
     },
     "metadata": {},
     "output_type": "display_data"
    }
   ],
   "source": [
    "sns.boxenplot(x='oplex_sentiment', y='Score', data = reviews)"
   ]
  },
  {
   "cell_type": "code",
   "execution_count": 30,
   "id": "d795228f",
   "metadata": {
    "execution": {
     "iopub.execute_input": "2024-08-18T18:32:42.061793Z",
     "iopub.status.busy": "2024-08-18T18:32:42.061354Z",
     "iopub.status.idle": "2024-08-18T18:32:42.335541Z",
     "shell.execute_reply": "2024-08-18T18:32:42.334117Z"
    },
    "papermill": {
     "duration": 0.304719,
     "end_time": "2024-08-18T18:32:42.339183",
     "exception": false,
     "start_time": "2024-08-18T18:32:42.034464",
     "status": "completed"
    },
    "tags": []
   },
   "outputs": [
    {
     "name": "stderr",
     "output_type": "stream",
     "text": [
      "/opt/conda/lib/python3.10/site-packages/seaborn/categorical.py:1794: FutureWarning: use_inf_as_na option is deprecated and will be removed in a future version. Convert inf values to NaN before operating instead.\n",
      "  with pd.option_context('mode.use_inf_as_na', True):\n",
      "/opt/conda/lib/python3.10/site-packages/seaborn/categorical.py:1794: FutureWarning: use_inf_as_na option is deprecated and will be removed in a future version. Convert inf values to NaN before operating instead.\n",
      "  with pd.option_context('mode.use_inf_as_na', True):\n",
      "/opt/conda/lib/python3.10/site-packages/seaborn/categorical.py:1794: FutureWarning: use_inf_as_na option is deprecated and will be removed in a future version. Convert inf values to NaN before operating instead.\n",
      "  with pd.option_context('mode.use_inf_as_na', True):\n",
      "/opt/conda/lib/python3.10/site-packages/seaborn/categorical.py:1794: FutureWarning: use_inf_as_na option is deprecated and will be removed in a future version. Convert inf values to NaN before operating instead.\n",
      "  with pd.option_context('mode.use_inf_as_na', True):\n",
      "/opt/conda/lib/python3.10/site-packages/seaborn/categorical.py:1794: FutureWarning: use_inf_as_na option is deprecated and will be removed in a future version. Convert inf values to NaN before operating instead.\n",
      "  with pd.option_context('mode.use_inf_as_na', True):\n"
     ]
    },
    {
     "data": {
      "image/png": "[encoded data removed]",
      "text/plain": [
       "<Figure size 1200x700 with 1 Axes>"
      ]
     },
     "metadata": {},
     "output_type": "display_data"
    }
   ],
   "source": [
    "\n",
    "fig, ax = plt.subplots(nrows=1, ncols=1, figsize = (12,7))\n",
    "sns.boxenplot(x='Score', y='oplex_sentiment_score', data = reviews, ax=ax)\n",
    "plt.show()"
   ]
  },
  {
   "cell_type": "code",
   "execution_count": 31,
   "id": "ba386a6e",
   "metadata": {
    "execution": {
     "iopub.execute_input": "2024-08-18T18:32:42.395528Z",
     "iopub.status.busy": "2024-08-18T18:32:42.395111Z",
     "iopub.status.idle": "2024-08-18T18:32:42.404426Z",
     "shell.execute_reply": "2024-08-18T18:32:42.402992Z"
    },
    "papermill": {
     "duration": 0.039779,
     "end_time": "2024-08-18T18:32:42.407352",
     "exception": false,
     "start_time": "2024-08-18T18:32:42.367573",
     "status": "completed"
    },
    "tags": []
   },
   "outputs": [],
   "source": [
    "reviews['true_sentiment'] = \\\n",
    "    reviews['Score'].apply(lambda x: \"positive\" if x>=4 else (\"neutral\" if x==3 else \"negative\"))"
   ]
  },
  {
   "cell_type": "code",
   "execution_count": 32,
   "id": "d43ff684",
   "metadata": {
    "execution": {
     "iopub.execute_input": "2024-08-18T18:32:42.464103Z",
     "iopub.status.busy": "2024-08-18T18:32:42.463631Z",
     "iopub.status.idle": "2024-08-18T18:32:42.469442Z",
     "shell.execute_reply": "2024-08-18T18:32:42.468127Z"
    },
    "papermill": {
     "duration": 0.038277,
     "end_time": "2024-08-18T18:32:42.472006",
     "exception": false,
     "start_time": "2024-08-18T18:32:42.433729",
     "status": "completed"
    },
    "tags": []
   },
   "outputs": [],
   "source": [
    "y_true = reviews['true_sentiment'].tolist()"
   ]
  },
  {
   "cell_type": "code",
   "execution_count": 33,
   "id": "6eb8b6ee",
   "metadata": {
    "execution": {
     "iopub.execute_input": "2024-08-18T18:32:42.527113Z",
     "iopub.status.busy": "2024-08-18T18:32:42.526676Z",
     "iopub.status.idle": "2024-08-18T18:32:42.532576Z",
     "shell.execute_reply": "2024-08-18T18:32:42.531129Z"
    },
    "papermill": {
     "duration": 0.037238,
     "end_time": "2024-08-18T18:32:42.535179",
     "exception": false,
     "start_time": "2024-08-18T18:32:42.497941",
     "status": "completed"
    },
    "tags": []
   },
   "outputs": [],
   "source": [
    "y_oplex_pred = reviews['oplex_sentiment'].tolist()"
   ]
  },
  {
   "cell_type": "code",
   "execution_count": 34,
   "id": "5517e532",
   "metadata": {
    "execution": {
     "iopub.execute_input": "2024-08-18T18:32:42.590599Z",
     "iopub.status.busy": "2024-08-18T18:32:42.590186Z",
     "iopub.status.idle": "2024-08-18T18:32:42.619700Z",
     "shell.execute_reply": "2024-08-18T18:32:42.618011Z"
    },
    "papermill": {
     "duration": 0.061482,
     "end_time": "2024-08-18T18:32:42.623177",
     "exception": false,
     "start_time": "2024-08-18T18:32:42.561695",
     "status": "completed"
    },
    "tags": []
   },
   "outputs": [],
   "source": [
    "from sklearn.metrics import confusion_matrix\n",
    "oplex_cm = confusion_matrix(y_true, y_oplex_pred)"
   ]
  },
  {
   "cell_type": "code",
   "execution_count": 35,
   "id": "f70dbc62",
   "metadata": {
    "execution": {
     "iopub.execute_input": "2024-08-18T18:32:42.677790Z",
     "iopub.status.busy": "2024-08-18T18:32:42.677396Z",
     "iopub.status.idle": "2024-08-18T18:32:42.996451Z",
     "shell.execute_reply": "2024-08-18T18:32:42.995204Z"
    },
    "papermill": {
     "duration": 0.349957,
     "end_time": "2024-08-18T18:32:42.999387",
     "exception": false,
     "start_time": "2024-08-18T18:32:42.649430",
     "status": "completed"
    },
    "tags": []
   },
   "outputs": [
    {
     "data": {
      "image/png": "[encoded data removed]",
      "text/plain": [
       "<Figure size 800x600 with 2 Axes>"
      ]
     },
     "metadata": {},
     "output_type": "display_data"
    }
   ],
   "source": [
    "fig , ax = plt.subplots(nrows=1, ncols=1, figsize=(8,6))\n",
    "sns.heatmap(oplex_cm, cmap='viridis_r', annot=True, fmt='d', square=True, ax=ax)\n",
    "ax.set_xlabel('Predicted')\n",
    "ax.set_ylabel('True');"
   ]
  },
  {
   "cell_type": "code",
   "execution_count": 36,
   "id": "6334829e",
   "metadata": {
    "execution": {
     "iopub.execute_input": "2024-08-18T18:32:43.056592Z",
     "iopub.status.busy": "2024-08-18T18:32:43.055746Z",
     "iopub.status.idle": "2024-08-18T18:32:43.062108Z",
     "shell.execute_reply": "2024-08-18T18:32:43.060565Z"
    },
    "papermill": {
     "duration": 0.037743,
     "end_time": "2024-08-18T18:32:43.064862",
     "exception": false,
     "start_time": "2024-08-18T18:32:43.027119",
     "status": "completed"
    },
    "tags": []
   },
   "outputs": [],
   "source": [
    "\n",
    "oplex_cm = list(oplex_cm.ravel())"
   ]
  },
  {
   "cell_type": "code",
   "execution_count": 37,
   "id": "a6435293",
   "metadata": {
    "execution": {
     "iopub.execute_input": "2024-08-18T18:32:43.121061Z",
     "iopub.status.busy": "2024-08-18T18:32:43.120607Z",
     "iopub.status.idle": "2024-08-18T18:32:43.128714Z",
     "shell.execute_reply": "2024-08-18T18:32:43.127426Z"
    },
    "papermill": {
     "duration": 0.04053,
     "end_time": "2024-08-18T18:32:43.131825",
     "exception": false,
     "start_time": "2024-08-18T18:32:43.091295",
     "status": "completed"
    },
    "tags": []
   },
   "outputs": [
    {
     "data": {
      "text/plain": [
       "[658, 839, 503, 79, 197, 224, 113, 604, 1283]"
      ]
     },
     "execution_count": 37,
     "metadata": {},
     "output_type": "execute_result"
    }
   ],
   "source": [
    "oplex_cm"
   ]
  },
  {
   "cell_type": "code",
   "execution_count": 38,
   "id": "885dbfdb",
   "metadata": {
    "execution": {
     "iopub.execute_input": "2024-08-18T18:32:43.186808Z",
     "iopub.status.busy": "2024-08-18T18:32:43.185739Z",
     "iopub.status.idle": "2024-08-18T18:32:43.191589Z",
     "shell.execute_reply": "2024-08-18T18:32:43.190474Z"
    },
    "papermill": {
     "duration": 0.036155,
     "end_time": "2024-08-18T18:32:43.194314",
     "exception": false,
     "start_time": "2024-08-18T18:32:43.158159",
     "status": "completed"
    },
    "tags": []
   },
   "outputs": [],
   "source": [
    "tp, tn, fp, fn = 1198, 654+870+79+187, 476+234, 157+645"
   ]
  },
  {
   "cell_type": "markdown",
   "id": "077d1e36",
   "metadata": {
    "papermill": {
     "duration": 0.027777,
     "end_time": "2024-08-18T18:32:43.248497",
     "exception": false,
     "start_time": "2024-08-18T18:32:43.220720",
     "status": "completed"
    },
    "tags": []
   },
   "source": [
    "# Positive Label Assessment"
   ]
  },
  {
   "cell_type": "code",
   "execution_count": 39,
   "id": "9763fe9c",
   "metadata": {
    "execution": {
     "iopub.execute_input": "2024-08-18T18:32:43.306191Z",
     "iopub.status.busy": "2024-08-18T18:32:43.305763Z",
     "iopub.status.idle": "2024-08-18T18:32:43.312981Z",
     "shell.execute_reply": "2024-08-18T18:32:43.311571Z"
    },
    "papermill": {
     "duration": 0.039821,
     "end_time": "2024-08-18T18:32:43.316399",
     "exception": false,
     "start_time": "2024-08-18T18:32:43.276578",
     "status": "completed"
    },
    "tags": []
   },
   "outputs": [
    {
     "name": "stdout",
     "output_type": "stream",
     "text": [
      "recall: 0.599\n",
      "precission: 0.6278825995807128\n",
      "f1 score: 0.6131013306038895\n"
     ]
    }
   ],
   "source": [
    "recall = tp / (tp+fn)\n",
    "specifity = tn / (tn+fp)\n",
    "precision = tp/(tp+fp)\n",
    "f1 = (2*tp) / (2*tp + fp + fn)\n",
    "\n",
    "print(\"recall: {}\\nprecission: {}\\nf1 score: {}\".format(recall, precision, f1))"
   ]
  },
  {
   "cell_type": "markdown",
   "id": "21afb2ae",
   "metadata": {
    "papermill": {
     "duration": 0.028297,
     "end_time": "2024-08-18T18:32:43.371523",
     "exception": false,
     "start_time": "2024-08-18T18:32:43.343226",
     "status": "completed"
    },
    "tags": []
   },
   "source": [
    "# Negative Lable Assessment"
   ]
  },
  {
   "cell_type": "code",
   "execution_count": 40,
   "id": "ba04c31f",
   "metadata": {
    "execution": {
     "iopub.execute_input": "2024-08-18T18:32:43.429596Z",
     "iopub.status.busy": "2024-08-18T18:32:43.429186Z",
     "iopub.status.idle": "2024-08-18T18:32:43.437148Z",
     "shell.execute_reply": "2024-08-18T18:32:43.435733Z"
    },
    "papermill": {
     "duration": 0.04185,
     "end_time": "2024-08-18T18:32:43.440497",
     "exception": false,
     "start_time": "2024-08-18T18:32:43.398647",
     "status": "completed"
    },
    "tags": []
   },
   "outputs": [
    {
     "name": "stdout",
     "output_type": "stream",
     "text": [
      "recall: 0.327\n",
      "precission: 0.7348314606741573\n",
      "f1 score: 0.45259515570934256\n"
     ]
    }
   ],
   "source": [
    "tp, tn, fp, fn = 654, 187+234+645+1198, 79+157, 870+476\n",
    "recall = tp / (tp+fn)\n",
    "specifity = tn / (tn+fp)\n",
    "precision = tp/(tp+fp)\n",
    "f1 = (2*tp) / (2*tp + fp + fn)\n",
    "\n",
    "print(\"recall: {}\\nprecission: {}\\nf1 score: {}\".format(recall, precision, f1))"
   ]
  },
  {
   "cell_type": "markdown",
   "id": "b8cad62c",
   "metadata": {
    "papermill": {
     "duration": 0.026289,
     "end_time": "2024-08-18T18:32:43.493755",
     "exception": false,
     "start_time": "2024-08-18T18:32:43.467466",
     "status": "completed"
    },
    "tags": []
   },
   "source": [
    "# VADER Sentiment Scoring\n",
    "\n",
    "VADER (Valence Aware Dictionary and sEntiment Reasoner) is a sentiment analysis tool designed for social media content, but also effective for other domains. Its key features include:\n",
    "\n",
    "- Lexicon-based approach: Uses a pre-defined dictionary with sentiment scores for each word.\n",
    "- Rule-based scoring: Applies rules to calculate overall sentiment, considering factors like negations, punctuation, capitalization, and emoticons.\n",
    "- Social media focus: Effective at capturing sentiments in social media posts with informal language, slang, and emoticons.\n",
    "- Efficiency: Lightweight option, consuming fewer resources compared to machine learning models.\n",
    "\n",
    "We will use NLTK's SentimentIntensityAnalyzer, which employs a \"bag of words\" approach:\n",
    "\n",
    "- Removes stop words\n",
    "- Scores each word and combines them for a total score\n",
    "\n",
    "This tool provides negative, neutral, and positive scores for text, offering a simple and efficient sentiment analysis solution."
   ]
  },
  {
   "cell_type": "code",
   "execution_count": 41,
   "id": "5ffe7847",
   "metadata": {
    "execution": {
     "iopub.execute_input": "2024-08-18T18:32:43.548975Z",
     "iopub.status.busy": "2024-08-18T18:32:43.548535Z",
     "iopub.status.idle": "2024-08-18T18:32:43.609044Z",
     "shell.execute_reply": "2024-08-18T18:32:43.607854Z"
    },
    "papermill": {
     "duration": 0.091347,
     "end_time": "2024-08-18T18:32:43.611871",
     "exception": false,
     "start_time": "2024-08-18T18:32:43.520524",
     "status": "completed"
    },
    "tags": []
   },
   "outputs": [
    {
     "name": "stderr",
     "output_type": "stream",
     "text": [
      "/opt/conda/lib/python3.10/site-packages/nltk/twitter/__init__.py:20: UserWarning: The twython library has not been installed. Some functionality from the twitter package will not be available.\n",
      "  warnings.warn(\"The twython library has not been installed. \"\n"
     ]
    }
   ],
   "source": [
    "from nltk.sentiment import SentimentIntensityAnalyzer\n",
    "from tqdm.notebook import tqdm\n",
    "sia = SentimentIntensityAnalyzer()"
   ]
  },
  {
   "cell_type": "code",
   "execution_count": 42,
   "id": "ac246440",
   "metadata": {
    "execution": {
     "iopub.execute_input": "2024-08-18T18:32:43.666796Z",
     "iopub.status.busy": "2024-08-18T18:32:43.666371Z",
     "iopub.status.idle": "2024-08-18T18:32:43.674180Z",
     "shell.execute_reply": "2024-08-18T18:32:43.672929Z"
    },
    "papermill": {
     "duration": 0.038917,
     "end_time": "2024-08-18T18:32:43.677264",
     "exception": false,
     "start_time": "2024-08-18T18:32:43.638347",
     "status": "completed"
    },
    "tags": []
   },
   "outputs": [
    {
     "data": {
      "text/plain": [
       "{'neg': 0.0, 'neu': 0.651, 'pos': 0.349, 'compound': 0.6468}"
      ]
     },
     "execution_count": 42,
     "metadata": {},
     "output_type": "execute_result"
    }
   ],
   "source": [
    "sia.polarity_scores(\"I am so happy after eating cremica's dark chocolate brownie!\")"
   ]
  },
  {
   "cell_type": "code",
   "execution_count": 43,
   "id": "fe66a1c8",
   "metadata": {
    "execution": {
     "iopub.execute_input": "2024-08-18T18:32:43.734360Z",
     "iopub.status.busy": "2024-08-18T18:32:43.733968Z",
     "iopub.status.idle": "2024-08-18T18:32:43.742093Z",
     "shell.execute_reply": "2024-08-18T18:32:43.740937Z"
    },
    "papermill": {
     "duration": 0.039045,
     "end_time": "2024-08-18T18:32:43.744614",
     "exception": false,
     "start_time": "2024-08-18T18:32:43.705569",
     "status": "completed"
    },
    "tags": []
   },
   "outputs": [
    {
     "data": {
      "text/plain": [
       "{'neg': 0.369, 'neu': 0.631, 'pos': 0.0, 'compound': -0.6249}"
      ]
     },
     "execution_count": 43,
     "metadata": {},
     "output_type": "execute_result"
    }
   ],
   "source": [
    "sia.polarity_scores('This is the worst thing I have ever eaten.')"
   ]
  },
  {
   "cell_type": "code",
   "execution_count": 44,
   "id": "2dacbee1",
   "metadata": {
    "execution": {
     "iopub.execute_input": "2024-08-18T18:32:43.799955Z",
     "iopub.status.busy": "2024-08-18T18:32:43.799462Z",
     "iopub.status.idle": "2024-08-18T18:32:43.808909Z",
     "shell.execute_reply": "2024-08-18T18:32:43.807712Z"
    },
    "papermill": {
     "duration": 0.040182,
     "end_time": "2024-08-18T18:32:43.811593",
     "exception": false,
     "start_time": "2024-08-18T18:32:43.771411",
     "status": "completed"
    },
    "tags": []
   },
   "outputs": [
    {
     "data": {
      "text/plain": [
       "{'neg': 0.098, 'neu': 0.798, 'pos': 0.103, 'compound': -0.1788}"
      ]
     },
     "execution_count": 44,
     "metadata": {},
     "output_type": "execute_result"
    }
   ],
   "source": [
    "example = reviews['Text'].iloc[20]\n",
    "sia.polarity_scores(example)"
   ]
  },
  {
   "cell_type": "code",
   "execution_count": 45,
   "id": "19fd2a85",
   "metadata": {
    "execution": {
     "iopub.execute_input": "2024-08-18T18:32:43.869443Z",
     "iopub.status.busy": "2024-08-18T18:32:43.868221Z",
     "iopub.status.idle": "2024-08-18T18:32:51.474320Z",
     "shell.execute_reply": "2024-08-18T18:32:51.472823Z"
    },
    "papermill": {
     "duration": 7.638263,
     "end_time": "2024-08-18T18:32:51.477571",
     "exception": false,
     "start_time": "2024-08-18T18:32:43.839308",
     "status": "completed"
    },
    "tags": []
   },
   "outputs": [
    {
     "data": {
      "application/vnd.jupyter.widget-view+json": {
       "model_id": "9304cb2d0e9e49e09a90d3cbd323d43e",
       "version_major": 2,
       "version_minor": 0
      },
      "text/plain": [
       "  0%|          | 0/4500 [00:00<?, ?it/s]"
      ]
     },
     "metadata": {},
     "output_type": "display_data"
    }
   ],
   "source": [
    "# Grabbing the polarity scores on the small corpus\n",
    "res = {}\n",
    "for i, row in tqdm(reviews.iterrows(), total=len(reviews)):\n",
    "    text = row['Text']\n",
    "    myid = row['Id']\n",
    "    res[myid] = sia.polarity_scores(text)"
   ]
  },
  {
   "cell_type": "code",
   "execution_count": 46,
   "id": "cd05000f",
   "metadata": {
    "execution": {
     "iopub.execute_input": "2024-08-18T18:32:51.538590Z",
     "iopub.status.busy": "2024-08-18T18:32:51.537613Z",
     "iopub.status.idle": "2024-08-18T18:32:51.714259Z",
     "shell.execute_reply": "2024-08-18T18:32:51.713007Z"
    },
    "papermill": {
     "duration": 0.209385,
     "end_time": "2024-08-18T18:32:51.717108",
     "exception": false,
     "start_time": "2024-08-18T18:32:51.507723",
     "status": "completed"
    },
    "tags": []
   },
   "outputs": [
    {
     "data": {
      "text/html": [
       "<div>\n",
       "<style scoped>\n",
       "    .dataframe tbody tr th:only-of-type {\n",
       "        vertical-align: middle;\n",
       "    }\n",
       "\n",
       "    .dataframe tbody tr th {\n",
       "        vertical-align: top;\n",
       "    }\n",
       "\n",
       "    .dataframe thead th {\n",
       "        text-align: right;\n",
       "    }\n",
       "</style>\n",
       "<table border=\"1\" class=\"dataframe\">\n",
       "  <thead>\n",
       "    <tr style=\"text-align: right;\">\n",
       "      <th></th>\n",
       "      <th>401374</th>\n",
       "      <th>441328</th>\n",
       "      <th>101934</th>\n",
       "      <th>479535</th>\n",
       "      <th>324193</th>\n",
       "      <th>228774</th>\n",
       "      <th>309148</th>\n",
       "      <th>549872</th>\n",
       "      <th>310573</th>\n",
       "      <th>22646</th>\n",
       "      <th>...</th>\n",
       "      <th>551941</th>\n",
       "      <th>150029</th>\n",
       "      <th>376902</th>\n",
       "      <th>438234</th>\n",
       "      <th>185509</th>\n",
       "      <th>417683</th>\n",
       "      <th>341248</th>\n",
       "      <th>341230</th>\n",
       "      <th>405263</th>\n",
       "      <th>391758</th>\n",
       "    </tr>\n",
       "  </thead>\n",
       "  <tbody>\n",
       "    <tr>\n",
       "      <th>neg</th>\n",
       "      <td>0.1490</td>\n",
       "      <td>0.034</td>\n",
       "      <td>0.0460</td>\n",
       "      <td>0.013</td>\n",
       "      <td>0.0260</td>\n",
       "      <td>0.1030</td>\n",
       "      <td>0.1340</td>\n",
       "      <td>0.0420</td>\n",
       "      <td>0.146</td>\n",
       "      <td>0.0900</td>\n",
       "      <td>...</td>\n",
       "      <td>0.0890</td>\n",
       "      <td>0.0250</td>\n",
       "      <td>0.0240</td>\n",
       "      <td>0.0150</td>\n",
       "      <td>0.0000</td>\n",
       "      <td>0.0310</td>\n",
       "      <td>0.0000</td>\n",
       "      <td>0.0320</td>\n",
       "      <td>0.0000</td>\n",
       "      <td>0.0280</td>\n",
       "    </tr>\n",
       "    <tr>\n",
       "      <th>neu</th>\n",
       "      <td>0.8510</td>\n",
       "      <td>0.899</td>\n",
       "      <td>0.8510</td>\n",
       "      <td>0.854</td>\n",
       "      <td>0.8980</td>\n",
       "      <td>0.8460</td>\n",
       "      <td>0.8090</td>\n",
       "      <td>0.7920</td>\n",
       "      <td>0.735</td>\n",
       "      <td>0.7420</td>\n",
       "      <td>...</td>\n",
       "      <td>0.8400</td>\n",
       "      <td>0.8260</td>\n",
       "      <td>0.6090</td>\n",
       "      <td>0.7670</td>\n",
       "      <td>0.7410</td>\n",
       "      <td>0.7470</td>\n",
       "      <td>0.8270</td>\n",
       "      <td>0.7600</td>\n",
       "      <td>0.5210</td>\n",
       "      <td>0.8980</td>\n",
       "    </tr>\n",
       "    <tr>\n",
       "      <th>pos</th>\n",
       "      <td>0.0000</td>\n",
       "      <td>0.067</td>\n",
       "      <td>0.1030</td>\n",
       "      <td>0.133</td>\n",
       "      <td>0.0760</td>\n",
       "      <td>0.0520</td>\n",
       "      <td>0.0570</td>\n",
       "      <td>0.1650</td>\n",
       "      <td>0.119</td>\n",
       "      <td>0.1680</td>\n",
       "      <td>...</td>\n",
       "      <td>0.0710</td>\n",
       "      <td>0.1500</td>\n",
       "      <td>0.3670</td>\n",
       "      <td>0.2190</td>\n",
       "      <td>0.2590</td>\n",
       "      <td>0.2210</td>\n",
       "      <td>0.1730</td>\n",
       "      <td>0.2080</td>\n",
       "      <td>0.4790</td>\n",
       "      <td>0.0740</td>\n",
       "    </tr>\n",
       "    <tr>\n",
       "      <th>compound</th>\n",
       "      <td>-0.5423</td>\n",
       "      <td>0.128</td>\n",
       "      <td>0.5596</td>\n",
       "      <td>0.902</td>\n",
       "      <td>0.8309</td>\n",
       "      <td>-0.8895</td>\n",
       "      <td>-0.5594</td>\n",
       "      <td>0.9555</td>\n",
       "      <td>0.298</td>\n",
       "      <td>0.3818</td>\n",
       "      <td>...</td>\n",
       "      <td>-0.1172</td>\n",
       "      <td>0.8949</td>\n",
       "      <td>0.9623</td>\n",
       "      <td>0.9476</td>\n",
       "      <td>0.9577</td>\n",
       "      <td>0.9138</td>\n",
       "      <td>0.8261</td>\n",
       "      <td>0.9455</td>\n",
       "      <td>0.9403</td>\n",
       "      <td>0.6209</td>\n",
       "    </tr>\n",
       "  </tbody>\n",
       "</table>\n",
       "<p>4 rows × 4500 columns</p>\n",
       "</div>"
      ],
      "text/plain": [
       "          401374  441328  101934  479535  324193  228774  309148  549872  \\\n",
       "neg       0.1490   0.034  0.0460   0.013  0.0260  0.1030  0.1340  0.0420   \n",
       "neu       0.8510   0.899  0.8510   0.854  0.8980  0.8460  0.8090  0.7920   \n",
       "pos       0.0000   0.067  0.1030   0.133  0.0760  0.0520  0.0570  0.1650   \n",
       "compound -0.5423   0.128  0.5596   0.902  0.8309 -0.8895 -0.5594  0.9555   \n",
       "\n",
       "          310573  22646   ...  551941  150029  376902  438234  185509  417683  \\\n",
       "neg        0.146  0.0900  ...  0.0890  0.0250  0.0240  0.0150  0.0000  0.0310   \n",
       "neu        0.735  0.7420  ...  0.8400  0.8260  0.6090  0.7670  0.7410  0.7470   \n",
       "pos        0.119  0.1680  ...  0.0710  0.1500  0.3670  0.2190  0.2590  0.2210   \n",
       "compound   0.298  0.3818  ... -0.1172  0.8949  0.9623  0.9476  0.9577  0.9138   \n",
       "\n",
       "          341248  341230  405263  391758  \n",
       "neg       0.0000  0.0320  0.0000  0.0280  \n",
       "neu       0.8270  0.7600  0.5210  0.8980  \n",
       "pos       0.1730  0.2080  0.4790  0.0740  \n",
       "compound  0.8261  0.9455  0.9403  0.6209  \n",
       "\n",
       "[4 rows x 4500 columns]"
      ]
     },
     "execution_count": 46,
     "metadata": {},
     "output_type": "execute_result"
    }
   ],
   "source": [
    "pd.DataFrame(res)"
   ]
  },
  {
   "cell_type": "code",
   "execution_count": 47,
   "id": "42b2d567",
   "metadata": {
    "execution": {
     "iopub.execute_input": "2024-08-18T18:32:51.774856Z",
     "iopub.status.busy": "2024-08-18T18:32:51.774463Z",
     "iopub.status.idle": "2024-08-18T18:32:51.946236Z",
     "shell.execute_reply": "2024-08-18T18:32:51.944523Z"
    },
    "papermill": {
     "duration": 0.204167,
     "end_time": "2024-08-18T18:32:51.949452",
     "exception": false,
     "start_time": "2024-08-18T18:32:51.745285",
     "status": "completed"
    },
    "tags": []
   },
   "outputs": [],
   "source": [
    "vaders = pd.DataFrame(res).T\n",
    "vaders = vaders.reset_index().rename(columns={'index': 'Id'})\n",
    "vaders = vaders.merge(reviews, how='left')"
   ]
  },
  {
   "cell_type": "code",
   "execution_count": 48,
   "id": "8529dcee",
   "metadata": {
    "execution": {
     "iopub.execute_input": "2024-08-18T18:32:52.011054Z",
     "iopub.status.busy": "2024-08-18T18:32:52.010585Z",
     "iopub.status.idle": "2024-08-18T18:32:52.036219Z",
     "shell.execute_reply": "2024-08-18T18:32:52.034786Z"
    },
    "papermill": {
     "duration": 0.060118,
     "end_time": "2024-08-18T18:32:52.039275",
     "exception": false,
     "start_time": "2024-08-18T18:32:51.979157",
     "status": "completed"
    },
    "tags": []
   },
   "outputs": [
    {
     "data": {
      "text/html": [
       "<div>\n",
       "<style scoped>\n",
       "    .dataframe tbody tr th:only-of-type {\n",
       "        vertical-align: middle;\n",
       "    }\n",
       "\n",
       "    .dataframe tbody tr th {\n",
       "        vertical-align: top;\n",
       "    }\n",
       "\n",
       "    .dataframe thead th {\n",
       "        text-align: right;\n",
       "    }\n",
       "</style>\n",
       "<table border=\"1\" class=\"dataframe\">\n",
       "  <thead>\n",
       "    <tr style=\"text-align: right;\">\n",
       "      <th></th>\n",
       "      <th>Id</th>\n",
       "      <th>neg</th>\n",
       "      <th>neu</th>\n",
       "      <th>pos</th>\n",
       "      <th>compound</th>\n",
       "      <th>ProductId</th>\n",
       "      <th>UserId</th>\n",
       "      <th>ProfileName</th>\n",
       "      <th>HelpfulnessNumerator</th>\n",
       "      <th>HelpfulnessDenominator</th>\n",
       "      <th>Score</th>\n",
       "      <th>Time</th>\n",
       "      <th>Summary</th>\n",
       "      <th>Text</th>\n",
       "      <th>oplex_sentiment_score</th>\n",
       "      <th>oplex_sentiment</th>\n",
       "      <th>true_sentiment</th>\n",
       "    </tr>\n",
       "  </thead>\n",
       "  <tbody>\n",
       "    <tr>\n",
       "      <th>0</th>\n",
       "      <td>401374</td>\n",
       "      <td>0.149</td>\n",
       "      <td>0.851</td>\n",
       "      <td>0.000</td>\n",
       "      <td>-0.5423</td>\n",
       "      <td>B000CQG8B2</td>\n",
       "      <td>A10Q7DZ2RN5JSU</td>\n",
       "      <td>M. Lyons</td>\n",
       "      <td>0</td>\n",
       "      <td>0</td>\n",
       "      <td>1</td>\n",
       "      <td>1317340800</td>\n",
       "      <td>Blegh</td>\n",
       "      <td>It's bland while you're drinking it without an...</td>\n",
       "      <td>-0.076923</td>\n",
       "      <td>negative</td>\n",
       "      <td>negative</td>\n",
       "    </tr>\n",
       "    <tr>\n",
       "      <th>1</th>\n",
       "      <td>441328</td>\n",
       "      <td>0.034</td>\n",
       "      <td>0.899</td>\n",
       "      <td>0.067</td>\n",
       "      <td>0.1280</td>\n",
       "      <td>B004UEKLZ6</td>\n",
       "      <td>A34WZL424RJLGD</td>\n",
       "      <td>Carol G. Kaplan \"bytheseatofmypants\"</td>\n",
       "      <td>1</td>\n",
       "      <td>2</td>\n",
       "      <td>1</td>\n",
       "      <td>1342569600</td>\n",
       "      <td>Don't buy through Amazon buy at grocery store</td>\n",
       "      <td>Apparently Karo sold to food service companies...</td>\n",
       "      <td>0.000000</td>\n",
       "      <td>neutral</td>\n",
       "      <td>negative</td>\n",
       "    </tr>\n",
       "    <tr>\n",
       "      <th>2</th>\n",
       "      <td>101934</td>\n",
       "      <td>0.046</td>\n",
       "      <td>0.851</td>\n",
       "      <td>0.103</td>\n",
       "      <td>0.5596</td>\n",
       "      <td>B0031UBXDE</td>\n",
       "      <td>A1EB65JZ9FBB5L</td>\n",
       "      <td>busymom09</td>\n",
       "      <td>4</td>\n",
       "      <td>8</td>\n",
       "      <td>1</td>\n",
       "      <td>1283299200</td>\n",
       "      <td>Great but WAY overpriced!</td>\n",
       "      <td>My daughter LOVES Ella's Kitchen.  The food is...</td>\n",
       "      <td>-0.076923</td>\n",
       "      <td>negative</td>\n",
       "      <td>negative</td>\n",
       "    </tr>\n",
       "    <tr>\n",
       "      <th>3</th>\n",
       "      <td>479535</td>\n",
       "      <td>0.013</td>\n",
       "      <td>0.854</td>\n",
       "      <td>0.133</td>\n",
       "      <td>0.9020</td>\n",
       "      <td>B000TMZR98</td>\n",
       "      <td>A18DM6R5C0QH1P</td>\n",
       "      <td>Sara Wanous</td>\n",
       "      <td>0</td>\n",
       "      <td>0</td>\n",
       "      <td>1</td>\n",
       "      <td>1281657600</td>\n",
       "      <td>Very Disappointed, Not Durable at All</td>\n",
       "      <td>I bought this toy because it touted being the ...</td>\n",
       "      <td>0.428571</td>\n",
       "      <td>positive</td>\n",
       "      <td>negative</td>\n",
       "    </tr>\n",
       "    <tr>\n",
       "      <th>4</th>\n",
       "      <td>324193</td>\n",
       "      <td>0.026</td>\n",
       "      <td>0.898</td>\n",
       "      <td>0.076</td>\n",
       "      <td>0.8309</td>\n",
       "      <td>B002QO87TY</td>\n",
       "      <td>A1BFPW6FP0DPNF</td>\n",
       "      <td>Petite Fleur</td>\n",
       "      <td>0</td>\n",
       "      <td>0</td>\n",
       "      <td>1</td>\n",
       "      <td>1320624000</td>\n",
       "      <td>Higher Price,  Very little Taste!</td>\n",
       "      <td>I love cheese straws!  Anytime I can find them...</td>\n",
       "      <td>-0.045198</td>\n",
       "      <td>negative</td>\n",
       "      <td>negative</td>\n",
       "    </tr>\n",
       "  </tbody>\n",
       "</table>\n",
       "</div>"
      ],
      "text/plain": [
       "       Id    neg    neu    pos  compound   ProductId          UserId  \\\n",
       "0  401374  0.149  0.851  0.000   -0.5423  B000CQG8B2  A10Q7DZ2RN5JSU   \n",
       "1  441328  0.034  0.899  0.067    0.1280  B004UEKLZ6  A34WZL424RJLGD   \n",
       "2  101934  0.046  0.851  0.103    0.5596  B0031UBXDE  A1EB65JZ9FBB5L   \n",
       "3  479535  0.013  0.854  0.133    0.9020  B000TMZR98  A18DM6R5C0QH1P   \n",
       "4  324193  0.026  0.898  0.076    0.8309  B002QO87TY  A1BFPW6FP0DPNF   \n",
       "\n",
       "                            ProfileName  HelpfulnessNumerator  \\\n",
       "0                              M. Lyons                     0   \n",
       "1  Carol G. Kaplan \"bytheseatofmypants\"                     1   \n",
       "2                             busymom09                     4   \n",
       "3                           Sara Wanous                     0   \n",
       "4                          Petite Fleur                     0   \n",
       "\n",
       "   HelpfulnessDenominator  Score        Time  \\\n",
       "0                       0      1  1317340800   \n",
       "1                       2      1  1342569600   \n",
       "2                       8      1  1283299200   \n",
       "3                       0      1  1281657600   \n",
       "4                       0      1  1320624000   \n",
       "\n",
       "                                         Summary  \\\n",
       "0                                          Blegh   \n",
       "1  Don't buy through Amazon buy at grocery store   \n",
       "2                      Great but WAY overpriced!   \n",
       "3          Very Disappointed, Not Durable at All   \n",
       "4              Higher Price,  Very little Taste!   \n",
       "\n",
       "                                                Text  oplex_sentiment_score  \\\n",
       "0  It's bland while you're drinking it without an...              -0.076923   \n",
       "1  Apparently Karo sold to food service companies...               0.000000   \n",
       "2  My daughter LOVES Ella's Kitchen.  The food is...              -0.076923   \n",
       "3  I bought this toy because it touted being the ...               0.428571   \n",
       "4  I love cheese straws!  Anytime I can find them...              -0.045198   \n",
       "\n",
       "  oplex_sentiment true_sentiment  \n",
       "0        negative       negative  \n",
       "1         neutral       negative  \n",
       "2        negative       negative  \n",
       "3        positive       negative  \n",
       "4        negative       negative  "
      ]
     },
     "execution_count": 48,
     "metadata": {},
     "output_type": "execute_result"
    }
   ],
   "source": [
    "# Now we have sentiment score and metadata\n",
    "vaders.head()"
   ]
  },
  {
   "cell_type": "markdown",
   "id": "5e720d66",
   "metadata": {
    "papermill": {
     "duration": 0.031964,
     "end_time": "2024-08-18T18:32:52.103892",
     "exception": false,
     "start_time": "2024-08-18T18:32:52.071928",
     "status": "completed"
    },
    "tags": []
   },
   "source": [
    "# Plot VADER results"
   ]
  },
  {
   "cell_type": "code",
   "execution_count": 49,
   "id": "de68d5de",
   "metadata": {
    "execution": {
     "iopub.execute_input": "2024-08-18T18:32:52.169001Z",
     "iopub.status.busy": "2024-08-18T18:32:52.168530Z",
     "iopub.status.idle": "2024-08-18T18:32:52.623361Z",
     "shell.execute_reply": "2024-08-18T18:32:52.622082Z"
    },
    "papermill": {
     "duration": 0.488394,
     "end_time": "2024-08-18T18:32:52.626343",
     "exception": false,
     "start_time": "2024-08-18T18:32:52.137949",
     "status": "completed"
    },
    "tags": []
   },
   "outputs": [
    {
     "data": {
      "image/png": "[encoded data removed]",
      "text/plain": [
       "<Figure size 640x480 with 1 Axes>"
      ]
     },
     "metadata": {},
     "output_type": "display_data"
    }
   ],
   "source": [
    "ax = sns.barplot(data=vaders, x='Score', y='compound')\n",
    "ax.set_title('Compund Score by Amazon Star Review')\n",
    "plt.show()"
   ]
  },
  {
   "cell_type": "code",
   "execution_count": 50,
   "id": "8e1f3b0d",
   "metadata": {
    "execution": {
     "iopub.execute_input": "2024-08-18T18:32:52.685546Z",
     "iopub.status.busy": "2024-08-18T18:32:52.685105Z",
     "iopub.status.idle": "2024-08-18T18:32:54.037436Z",
     "shell.execute_reply": "2024-08-18T18:32:54.035126Z"
    },
    "papermill": {
     "duration": 1.385845,
     "end_time": "2024-08-18T18:32:54.040956",
     "exception": false,
     "start_time": "2024-08-18T18:32:52.655111",
     "status": "completed"
    },
    "tags": []
   },
   "outputs": [
    {
     "data": {
      "image/png": "[encoded data removed]",
      "text/plain": [
       "<Figure size 1200x400 with 3 Axes>"
      ]
     },
     "metadata": {},
     "output_type": "display_data"
    }
   ],
   "source": [
    "fig, axs = plt.subplots(1, 3, figsize=(12, 4))\n",
    "sns.barplot(data=vaders, x='Score', y='pos', ax=axs[0])\n",
    "sns.barplot(data=vaders, x='Score', y='neu', ax=axs[1])\n",
    "sns.barplot(data=vaders, x='Score', y='neg', ax=axs[2])\n",
    "axs[0].set_title('Positive')\n",
    "axs[1].set_title('Neutral')\n",
    "axs[2].set_title('Negative')\n",
    "plt.tight_layout()\n",
    "plt.show()"
   ]
  }
 ],
 "metadata": {
  "kaggle": {
   "accelerator": "none",
   "dataSources": [
    {
     "databundleVersionId": 26502,
     "sourceId": 3136,
     "sourceType": "competition"
    },
    {
     "datasetId": 18,
     "sourceId": 2157,
     "sourceType": "datasetVersion"
    },
    {
     "datasetId": 5560932,
     "sourceId": 9198086,
     "sourceType": "datasetVersion"
    },
    {
     "isSourceIdPinned": true,
     "modelId": 104578,
     "modelInstanceId": 80117,
     "sourceId": 95525,
     "sourceType": "modelInstanceVersion"
    }
   ],
   "dockerImageVersionId": 30746,
   "isGpuEnabled": false,
   "isInternetEnabled": false,
   "language": "python",
   "sourceType": "notebook"
  },
  "kernelspec": {
   "display_name": "Python 3",
   "language": "python",
   "name": "python3"
  },
  "language_info": {
   "codemirror_mode": {
    "name": "ipython",
    "version": 3
   },
   "file_extension": ".py",
   "mimetype": "text/x-python",
   "name": "python",
   "nbconvert_exporter": "python",
   "pygments_lexer": "ipython3",
   "version": "3.10.13"
  },
  "papermill": {
   "default_parameters": {},
   "duration": 432.452741,
   "end_time": "2024-08-18T18:32:55.098252",
   "environment_variables": {},
   "exception": null,
   "input_path": "__notebook__.ipynb",
   "output_path": "__notebook__.ipynb",
   "parameters": {},
   "start_time": "2024-08-18T18:25:42.645511",
   "version": "2.5.0"
  },
  "widgets": {
   "application/vnd.jupyter.widget-state+json": {
    "state": {
     "348beddf28f945409511e17c8972e062": {
      "model_module": "@jupyter-widgets/base",
      "model_module_version": "1.2.0",
      "model_name": "LayoutModel",
      "state": {
       "_model_module": "@jupyter-widgets/base",
       "_model_module_version": "1.2.0",
       "_model_name": "LayoutModel",
       "_view_count": null,
       "_view_module": "@jupyter-widgets/base",
       "_view_module_version": "1.2.0",
       "_view_name": "LayoutView",
       "align_content": null,
       "align_items": null,
       "align_self": null,
       "border": null,
       "bottom": null,
       "display": null,
       "flex": null,
       "flex_flow": null,
       "grid_area": null,
       "grid_auto_columns": null,
       "grid_auto_flow": null,
       "grid_auto_rows": null,
       "grid_column": null,
       "grid_gap": null,
       "grid_row": null,
       "grid_template_areas": null,
       "grid_template_columns": null,
       "grid_template_rows": null,
       "height": null,
       "justify_content": null,
       "justify_items": null,
       "left": null,
       "margin": null,
       "max_height": null,
       "max_width": null,
       "min_height": null,
       "min_width": null,
       "object_fit": null,
       "object_position": null,
       "order": null,
       "overflow": null,
       "overflow_x": null,
       "overflow_y": null,
       "padding": null,
       "right": null,
       "top": null,
       "visibility": null,
       "width": null
      }
     },
     "4c610f20ba814aebb6bfcfd7bbd88950": {
      "model_module": "@jupyter-widgets/controls",
      "model_module_version": "1.5.0",
      "model_name": "ProgressStyleModel",
      "state": {
       "_model_module": "@jupyter-widgets/controls",
       "_model_module_version": "1.5.0",
       "_model_name": "ProgressStyleModel",
       "_view_count": null,
       "_view_module": "@jupyter-widgets/base",
       "_view_module_version": "1.2.0",
       "_view_name": "StyleView",
       "bar_color": null,
       "description_width": ""
      }
     },
     "9304cb2d0e9e49e09a90d3cbd323d43e": {
      "model_module": "@jupyter-widgets/controls",
      "model_module_version": "1.5.0",
      "model_name": "HBoxModel",
      "state": {
       "_dom_classes": [],
       "_model_module": "@jupyter-widgets/controls",
       "_model_module_version": "1.5.0",
       "_model_name": "HBoxModel",
       "_view_count": null,
       "_view_module": "@jupyter-widgets/controls",
       "_view_module_version": "1.5.0",
       "_view_name": "HBoxView",
       "box_style": "",
       "children": [
        "IPY_MODEL_fde72ed7458c44269838d46b06b23898",
        "IPY_MODEL_b2f55a3b99184c02af7cf6fc50565d49",
        "IPY_MODEL_93ecead47aca44d3bb9fec87da3c26f0"
       ],
       "layout": "IPY_MODEL_9a0dcc5be37446c8bfd56a8ecdd5231d"
      }
     },
     "93ecead47aca44d3bb9fec87da3c26f0": {
      "model_module": "@jupyter-widgets/controls",
      "model_module_version": "1.5.0",
      "model_name": "HTMLModel",
      "state": {
       "_dom_classes": [],
       "_model_module": "@jupyter-widgets/controls",
       "_model_module_version": "1.5.0",
       "_model_name": "HTMLModel",
       "_view_count": null,
       "_view_module": "@jupyter-widgets/controls",
       "_view_module_version": "1.5.0",
       "_view_name": "HTMLView",
       "description": "",
       "description_tooltip": null,
       "layout": "IPY_MODEL_b27264a11e414ad5a891b7c888183e73",
       "placeholder": "​",
       "style": "IPY_MODEL_c476a381c29b408d8fe092c12d4720bb",
       "value": " 4500/4500 [00:07&lt;00:00, 729.24it/s]"
      }
     },
     "9a0dcc5be37446c8bfd56a8ecdd5231d": {
      "model_module": "@jupyter-widgets/base",
      "model_module_version": "1.2.0",
      "model_name": "LayoutModel",
      "state": {
       "_model_module": "@jupyter-widgets/base",
       "_model_module_version": "1.2.0",
       "_model_name": "LayoutModel",
       "_view_count": null,
       "_view_module": "@jupyter-widgets/base",
       "_view_module_version": "1.2.0",
       "_view_name": "LayoutView",
       "align_content": null,
       "align_items": null,
       "align_self": null,
       "border": null,
       "bottom": null,
       "display": null,
       "flex": null,
       "flex_flow": null,
       "grid_area": null,
       "grid_auto_columns": null,
       "grid_auto_flow": null,
       "grid_auto_rows": null,
       "grid_column": null,
       "grid_gap": null,
       "grid_row": null,
       "grid_template_areas": null,
       "grid_template_columns": null,
       "grid_template_rows": null,
       "height": null,
       "justify_content": null,
       "justify_items": null,
       "left": null,
       "margin": null,
       "max_height": null,
       "max_width": null,
       "min_height": null,
       "min_width": null,
       "object_fit": null,
       "object_position": null,
       "order": null,
       "overflow": null,
       "overflow_x": null,
       "overflow_y": null,
       "padding": null,
       "right": null,
       "top": null,
       "visibility": null,
       "width": null
      }
     },
     "b2570e07c810404ba8dc6e598ea34ef2": {
      "model_module": "@jupyter-widgets/base",
      "model_module_version": "1.2.0",
      "model_name": "LayoutModel",
      "state": {
       "_model_module": "@jupyter-widgets/base",
       "_model_module_version": "1.2.0",
       "_model_name": "LayoutModel",
       "_view_count": null,
       "_view_module": "@jupyter-widgets/base",
       "_view_module_version": "1.2.0",
       "_view_name": "LayoutView",
       "align_content": null,
       "align_items": null,
       "align_self": null,
       "border": null,
       "bottom": null,
       "display": null,
       "flex": null,
       "flex_flow": null,
       "grid_area": null,
       "grid_auto_columns": null,
       "grid_auto_flow": null,
       "grid_auto_rows": null,
       "grid_column": null,
       "grid_gap": null,
       "grid_row": null,
       "grid_template_areas": null,
       "grid_template_columns": null,
       "grid_template_rows": null,
       "height": null,
       "justify_content": null,
       "justify_items": null,
       "left": null,
       "margin": null,
       "max_height": null,
       "max_width": null,
       "min_height": null,
       "min_width": null,
       "object_fit": null,
       "object_position": null,
       "order": null,
       "overflow": null,
       "overflow_x": null,
       "overflow_y": null,
       "padding": null,
       "right": null,
       "top": null,
       "visibility": null,
       "width": null
      }
     },
     "b27264a11e414ad5a891b7c888183e73": {
      "model_module": "@jupyter-widgets/base",
      "model_module_version": "1.2.0",
      "model_name": "LayoutModel",
      "state": {
       "_model_module": "@jupyter-widgets/base",
       "_model_module_version": "1.2.0",
       "_model_name": "LayoutModel",
       "_view_count": null,
       "_view_module": "@jupyter-widgets/base",
       "_view_module_version": "1.2.0",
       "_view_name": "LayoutView",
       "align_content": null,
       "align_items": null,
       "align_self": null,
       "border": null,
       "bottom": null,
       "display": null,
       "flex": null,
       "flex_flow": null,
       "grid_area": null,
       "grid_auto_columns": null,
       "grid_auto_flow": null,
       "grid_auto_rows": null,
       "grid_column": null,
       "grid_gap": null,
       "grid_row": null,
       "grid_template_areas": null,
       "grid_template_columns": null,
       "grid_template_rows": null,
       "height": null,
       "justify_content": null,
       "justify_items": null,
       "left": null,
       "margin": null,
       "max_height": null,
       "max_width": null,
       "min_height": null,
       "min_width": null,
       "object_fit": null,
       "object_position": null,
       "order": null,
       "overflow": null,
       "overflow_x": null,
       "overflow_y": null,
       "padding": null,
       "right": null,
       "top": null,
       "visibility": null,
       "width": null
      }
     },
     "b2f55a3b99184c02af7cf6fc50565d49": {
      "model_module": "@jupyter-widgets/controls",
      "model_module_version": "1.5.0",
      "model_name": "FloatProgressModel",
      "state": {
       "_dom_classes": [],
       "_model_module": "@jupyter-widgets/controls",
       "_model_module_version": "1.5.0",
       "_model_name": "FloatProgressModel",
       "_view_count": null,
       "_view_module": "@jupyter-widgets/controls",
       "_view_module_version": "1.5.0",
       "_view_name": "ProgressView",
       "bar_style": "success",
       "description": "",
       "description_tooltip": null,
       "layout": "IPY_MODEL_348beddf28f945409511e17c8972e062",
       "max": 4500.0,
       "min": 0.0,
       "orientation": "horizontal",
       "style": "IPY_MODEL_4c610f20ba814aebb6bfcfd7bbd88950",
       "value": 4500.0
      }
     },
     "c476a381c29b408d8fe092c12d4720bb": {
      "model_module": "@jupyter-widgets/controls",
      "model_module_version": "1.5.0",
      "model_name": "DescriptionStyleModel",
      "state": {
       "_model_module": "@jupyter-widgets/controls",
       "_model_module_version": "1.5.0",
       "_model_name": "DescriptionStyleModel",
       "_view_count": null,
       "_view_module": "@jupyter-widgets/base",
       "_view_module_version": "1.2.0",
       "_view_name": "StyleView",
       "description_width": ""
      }
     },
     "e10a44b81cfd408d9f0046a9397537e7": {
      "model_module": "@jupyter-widgets/controls",
      "model_module_version": "1.5.0",
      "model_name": "DescriptionStyleModel",
      "state": {
       "_model_module": "@jupyter-widgets/controls",
       "_model_module_version": "1.5.0",
       "_model_name": "DescriptionStyleModel",
       "_view_count": null,
       "_view_module": "@jupyter-widgets/base",
       "_view_module_version": "1.2.0",
       "_view_name": "StyleView",
       "description_width": ""
      }
     },
     "fde72ed7458c44269838d46b06b23898": {
      "model_module": "@jupyter-widgets/controls",
      "model_module_version": "1.5.0",
      "model_name": "HTMLModel",
      "state": {
       "_dom_classes": [],
       "_model_module": "@jupyter-widgets/controls",
       "_model_module_version": "1.5.0",
       "_model_name": "HTMLModel",
       "_view_count": null,
       "_view_module": "@jupyter-widgets/controls",
       "_view_module_version": "1.5.0",
       "_view_name": "HTMLView",
       "description": "",
       "description_tooltip": null,
       "layout": "IPY_MODEL_b2570e07c810404ba8dc6e598ea34ef2",
       "placeholder": "​",
       "style": "IPY_MODEL_e10a44b81cfd408d9f0046a9397537e7",
       "value": "100%"
      }
     }
    },
    "version_major": 2,
    "version_minor": 0
   }
  }
 },
 "nbformat": 4,
 "nbformat_minor": 5
}
